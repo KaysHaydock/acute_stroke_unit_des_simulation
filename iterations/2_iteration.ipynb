{
 "cells": [
  {
   "cell_type": "markdown",
   "id": "8dca027e",
   "metadata": {},
   "source": [
    "## Iteration 2: includes four type of stroke patients and four arrival functions"
   ]
  },
  {
   "cell_type": "markdown",
   "id": "0be7dabf-cb34-4faf-abb1-e2c8e735beda",
   "metadata": {},
   "source": [
    "## **. Patient Admission Sources**  \n",
    "Patients enter the hospital through **two primary pathways**:  \n",
    "- **New Admissions**: Direct hospital entry for Stroke, TIA, Complex Neurological, and Other Medical Cases.  \n",
    "\n",
    "\n",
    "| Patient Type                     | Admissions (n) | Percentage (%) |\n",
    "|----------------------------------|---------------|--------------|\n",
    "| Stroke                           | 1,320         | 54%          |\n",
    "| Transient Ischemic Attack (TIA)  | 158           | 6%           |\n",
    "| Complex Neurological             | 456           | 19%          |\n",
    "| Other Medical Cases              | 510           | 21%          |\n",
    "\n",
    "**Patient admissions are distributed as follows**\n",
    "\n",
    "| Category                | Mean(Days) |\n",
    "|-------------------------|----------------------------|\n",
    "| Stroke                  | 1.2                        |\n",
    "| TIA (Transient Ischemic Attack) | 9.3                |\n",
    "| Complex Neurological    | 3.6                        |\n",
    "| Other                   | 3.2                        |\n",
    "\n"
   ]
  },
  {
   "cell_type": "markdown",
   "id": "0d9383eb-420c-49f8-b178-f2fe9e6b2a90",
   "metadata": {},
   "source": [
    "## 1. Imports "
   ]
  },
  {
   "cell_type": "code",
   "execution_count": 1,
   "id": "07f09221",
   "metadata": {},
   "outputs": [],
   "source": [
    "import numpy as np\n",
    "import itertools\n",
    "import simpy\n",
    "import sys\n",
    "import os"
   ]
  },
  {
   "cell_type": "code",
   "execution_count": 2,
   "id": "e55e8745",
   "metadata": {},
   "outputs": [],
   "source": [
    "# Add parent directory to path so we can import distribution.py\n",
    "sys.path.append(os.path.abspath(\"..\"))  # noqa: E402\n",
    "\n",
    "from distribution import Exponential  # noqa: E402"
   ]
  },
  {
   "cell_type": "markdown",
   "id": "c422046d-488a-4743-8ad4-97e9f3dab420",
   "metadata": {},
   "source": [
    "## 2. Constants"
   ]
  },
  {
   "cell_type": "code",
   "execution_count": 3,
   "id": "1ecf0429-f03f-4ad2-abb4-46692a74e559",
   "metadata": {
    "trusted": true
   },
   "outputs": [],
   "source": [
    "# default mean inter-arrival times(exp)\n",
    "IAT_STROKE = 1.2\n",
    "IAT_TIA = 9.3\n",
    "IAT_COMPLEX_NEURO = 3.6\n",
    "IAT_OTHER = 3.2\n",
    "\n",
    "# sampling settings\n",
    "N_STREAMS = 4\n",
    "DEFAULT_RND_SET = 0\n",
    "\n",
    "# Boolean switch to simulation results as the model runs\n",
    "TRACE = False\n",
    "\n",
    "# run variables (units = days)\n",
    "RUN_LENGTH = 365 * 3"
   ]
  },
  {
   "cell_type": "markdown",
   "id": "5f2a4ad9-6d5e-480d-850f-84d4882a738b",
   "metadata": {},
   "source": [
    "## 2. Helper classes and functions"
   ]
  },
  {
   "cell_type": "code",
   "execution_count": 4,
   "id": "52c9271f-1d05-454d-a199-8768bdf5b6e8",
   "metadata": {
    "trusted": true
   },
   "outputs": [],
   "source": [
    "def trace(msg):\n",
    "    \"\"\"\n",
    "    Turing printing of events on and off.\n",
    "\n",
    "    Params:\n",
    "    -------\n",
    "    msg: str\n",
    "        string to print to screen.\n",
    "    \"\"\"\n",
    "    if TRACE:\n",
    "        print(msg)"
   ]
  },
  {
   "cell_type": "markdown",
   "id": "5a8c050c-4bb6-408f-a805-3a4aaab56916",
   "metadata": {},
   "source": [
    "## 3. Experiment class"
   ]
  },
  {
   "cell_type": "code",
   "execution_count": 5,
   "id": "576ae9b4-b21b-4ed0-9b13-e5898d423173",
   "metadata": {
    "trusted": true
   },
   "outputs": [],
   "source": [
    "class Experiment:\n",
    "    \"\"\"\n",
    "    Encapsulates the concept of an experiment 🧪 for the Orthopedic Surgery\n",
    "    trauma arrival simulator. Manages parameters, PRNG streams and results.\n",
    "    \"\"\"\n",
    "\n",
    "    def __init__(\n",
    "        self,\n",
    "        random_number_set=DEFAULT_RND_SET,\n",
    "        n_streams=N_STREAMS,\n",
    "        iat_stroke=IAT_STROKE,\n",
    "        iat_tia=IAT_TIA,\n",
    "        iat_complex_neuro=IAT_COMPLEX_NEURO,\n",
    "        iat_other=IAT_OTHER,\n",
    "    ):\n",
    "        \"\"\"\n",
    "        The init method sets up our defaults.\n",
    "        \"\"\"\n",
    "        # sampling\n",
    "        self.random_number_set = random_number_set\n",
    "        self.n_streams = n_streams\n",
    "\n",
    "        # store parameters for the run of the model\n",
    "        self.iat_stroke = iat_stroke\n",
    "        self.iat_tia = iat_tia\n",
    "        self.iat_complex_neuro = iat_complex_neuro\n",
    "        self.iat_other = iat_other\n",
    "\n",
    "        # initialise results to zero\n",
    "        self.init_results_variables()\n",
    "\n",
    "        # initialise sampling objects\n",
    "        self.init_sampling()\n",
    "\n",
    "    def set_random_no_set(self, random_number_set):\n",
    "        \"\"\"\n",
    "        Controls the random sampling\n",
    "        Parameters:\n",
    "        ----------\n",
    "        random_number_set: int\n",
    "            Used to control the set of pseudo random numbers used by\n",
    "            the distributions in the simulation.\n",
    "        \"\"\"\n",
    "        self.random_number_set = random_number_set\n",
    "        self.init_sampling()\n",
    "\n",
    "    def init_sampling(self):\n",
    "        \"\"\"\n",
    "        Create the distributions used by the model and initialise\n",
    "        the random seeds of each.\n",
    "        \"\"\"\n",
    "        # produce n non-overlapping streams\n",
    "        seed_sequence = np.random.SeedSequence(self.random_number_set)\n",
    "        self.seeds = seed_sequence.spawn(self.n_streams)\n",
    "\n",
    "        # create distributions\n",
    "\n",
    "        # inter-arrival time distributions\n",
    "        self.arrival_stroke = Exponential(\n",
    "            self.iat_stroke, random_seed=self.seeds[0]\n",
    "        )\n",
    "\n",
    "        self.arrival_tia = Exponential(self.iat_tia, random_seed=self.seeds[0])\n",
    "\n",
    "        self.arrival_complex_neuro = Exponential(\n",
    "            self.iat_complex_neuro, random_seed=self.seeds[0]\n",
    "        )\n",
    "\n",
    "        self.arrival_other = Exponential(\n",
    "            self.iat_other, random_seed=self.seeds[0]\n",
    "        )\n",
    "\n",
    "    def init_results_variables(self):\n",
    "        \"\"\"\n",
    "        Initialise all of the experiment variables used in results\n",
    "        collection.  This method is called at the start of each run\n",
    "        of the model\n",
    "        \"\"\"\n",
    "        # variable used to store results of experiment\n",
    "        self.results = {}\n",
    "        self.results[\"n_stroke\"] = 0\n",
    "        self.results[\"n_tia\"] = 0\n",
    "        self.results[\"n_complex_neuro\"] = 0\n",
    "        self.results[\"n_other\"] = 0\n",
    "        self.results[\"n_total\"] = 0"
   ]
  },
  {
   "cell_type": "markdown",
   "id": "de8990c2-a330-4c02-ac77-26c30d3e0a41",
   "metadata": {},
   "source": [
    "## 4. A function per arrival source\n",
    "\n",
    "The first approach we will use is creating an arrival generator per source.  There will be some code redundancy, but it will a clear design for others to understand."
   ]
  },
  {
   "cell_type": "code",
   "execution_count": 6,
   "id": "685e20d1",
   "metadata": {},
   "outputs": [],
   "source": [
    "def stroke_arrivals_generator(env, args):\n",
    "    \"\"\"\n",
    "    Arrival process for strokes.\n",
    "\n",
    "    Parameters:\n",
    "    ------\n",
    "    env: simpy.Environment\n",
    "        The simpy environment for the simulation\n",
    "\n",
    "    args: Experiment\n",
    "        The settings and input parameters for the simulation.\n",
    "    \"\"\"\n",
    "    # use itertools as it provides an infinite loop\n",
    "    # with a counter variable that we can use for unique Ids\n",
    "    for patient_count in itertools.count(start=1):\n",
    "\n",
    "        # the sample distribution is defined by the experiment.\n",
    "        inter_arrival_time = args.arrival_stroke.sample()\n",
    "        yield env.timeout(inter_arrival_time)\n",
    "\n",
    "        args.results[\"n_stroke\"] = patient_count\n",
    "        args.results[\"n_total\"] += 1\n",
    "\n",
    "        trace(f\"{env.now:.2f}: STROKE arrival.\")"
   ]
  },
  {
   "cell_type": "code",
   "execution_count": 7,
   "id": "cfddc083",
   "metadata": {},
   "outputs": [],
   "source": [
    "def tia_arrivals_generator(env, args):\n",
    "    \"\"\"\n",
    "    Arrival process for TIAs.\n",
    "\n",
    "    Parameters:\n",
    "    ------\n",
    "    env: simpy.Environment\n",
    "        The simpy environment for the simulation\n",
    "\n",
    "    args: Experiment\n",
    "        The settings and input parameters for the simulation.\n",
    "    \"\"\"\n",
    "    # use itertools as it provides an infinite loop\n",
    "    # with a counter variable that we can use for unique Ids\n",
    "    for patient_count in itertools.count(start=1):\n",
    "\n",
    "        # the sample distribution is defined by the experiment.\n",
    "        inter_arrival_time = args.arrival_tia.sample()\n",
    "        yield env.timeout(inter_arrival_time)\n",
    "\n",
    "        args.results[\"n_tia\"] = patient_count\n",
    "        args.results[\"n_total\"] += 1\n",
    "        trace(f\"{env.now:.2f}: TIA arrival.\")"
   ]
  },
  {
   "cell_type": "code",
   "execution_count": 8,
   "id": "488f6df4",
   "metadata": {},
   "outputs": [],
   "source": [
    "def complex_neuro_arrivals_generator(env, args):\n",
    "    \"\"\"\n",
    "    Arrival process for complex neuro cases.\n",
    "\n",
    "    Parameters:\n",
    "    ------\n",
    "    env: simpy.Environment\n",
    "        The simpy environment for the simulation\n",
    "\n",
    "    args: Experiment\n",
    "        The settings and input parameters for the simulation.\n",
    "    \"\"\"\n",
    "    # use itertools as it provides an infinite loop\n",
    "    # with a counter variable that we can use for unique Ids\n",
    "    for patient_count in itertools.count(start=1):\n",
    "\n",
    "        # the sample distribution is defined by the experiment.\n",
    "        inter_arrival_time = args.arrival_complex_neuro.sample()\n",
    "        yield env.timeout(inter_arrival_time)\n",
    "\n",
    "        args.results[\"n_complex_neuro\"] = patient_count\n",
    "        args.results[\"n_total\"] += 1\n",
    "        trace(f\"{env.now:.2f}: COMPLEX NEURO arrival.\")"
   ]
  },
  {
   "cell_type": "code",
   "execution_count": 9,
   "id": "f2779aef",
   "metadata": {},
   "outputs": [],
   "source": [
    "def other_arrivals_generator(env, args):\n",
    "    \"\"\"\n",
    "    Arrival process for other cases.\n",
    "\n",
    "    Parameters:\n",
    "    ------\n",
    "    env: simpy.Environment\n",
    "        The simpy environment for the simulation\n",
    "\n",
    "    args: Experiment\n",
    "        The settings and input parameters for the simulation.\n",
    "    \"\"\"\n",
    "    # use itertools as it provides an infinite loop\n",
    "    # with a counter variable that we can use for unique Ids\n",
    "    for patient_count in itertools.count(start=1):\n",
    "\n",
    "        # the sample distribution is defined by the experiment.\n",
    "        inter_arrival_time = args.arrival_other.sample()\n",
    "        yield env.timeout(inter_arrival_time)\n",
    "\n",
    "        args.results[\"n_other\"] = patient_count\n",
    "        args.results[\"n_total\"] += 1\n",
    "        trace(f\"{env.now:.2f}: OTHER arrival.\")"
   ]
  },
  {
   "cell_type": "markdown",
   "id": "6058571e-9fdb-4961-be27-8a3b8c2fe26e",
   "metadata": {},
   "source": [
    "## 5. Single run function"
   ]
  },
  {
   "cell_type": "code",
   "execution_count": 10,
   "id": "0d0ea6cf-7d95-4d2c-9690-fcdbdae35d84",
   "metadata": {
    "trusted": true
   },
   "outputs": [],
   "source": [
    "def single_run(experiment, rep=0, run_length=RUN_LENGTH):\n",
    "    \"\"\"\n",
    "    Perform a single run of the model and return the results\n",
    "\n",
    "    Parameters:\n",
    "    -----------\n",
    "\n",
    "    experiment: Experiment\n",
    "        The experiment/parameters to use with model\n",
    "\n",
    "    rep: int\n",
    "        The replication number.\n",
    "\n",
    "    run_length: float, optional (default=RUN_LENGTH)\n",
    "        The run length of the model\n",
    "    \"\"\"\n",
    "\n",
    "    # reset all results variables to zero and empty\n",
    "    experiment.init_results_variables()\n",
    "\n",
    "    # set random number set to the replication no.\n",
    "    # this controls sampling for the run.\n",
    "    experiment.set_random_no_set(rep)\n",
    "\n",
    "    # environment is (re)created inside single run\n",
    "    env = simpy.Environment()\n",
    "\n",
    "    # we pass all arrival generators to simpy\n",
    "    env.process(stroke_arrivals_generator(env, experiment))\n",
    "    env.process(tia_arrivals_generator(env, experiment))\n",
    "    env.process(complex_neuro_arrivals_generator(env, experiment))\n",
    "    env.process(other_arrivals_generator(env, experiment))\n",
    "\n",
    "    # run for warm-up + results collection period\n",
    "    env.run(until=run_length)\n",
    "\n",
    "    # return the count of the arrivals\n",
    "    return experiment.results"
   ]
  },
  {
   "cell_type": "code",
   "execution_count": 11,
   "id": "caf52390-5455-4fa1-bb22-60b5b91ad8d0",
   "metadata": {
    "trusted": true
   },
   "outputs": [],
   "source": [
    "TRACE = False\n",
    "experiment = Experiment()\n",
    "results = single_run(experiment)"
   ]
  },
  {
   "cell_type": "code",
   "execution_count": 12,
   "id": "970fa416",
   "metadata": {},
   "outputs": [
    {
     "data": {
      "text/plain": [
       "{'n_stroke': 934,\n",
       " 'n_tia': 113,\n",
       " 'n_complex_neuro': 311,\n",
       " 'n_other': 358,\n",
       " 'n_total': 1716}"
      ]
     },
     "execution_count": 12,
     "metadata": {},
     "output_type": "execute_result"
    }
   ],
   "source": [
    "# the results of patient arrival\n",
    "results"
   ]
  },
  {
   "cell_type": "markdown",
   "id": "9f8cee41",
   "metadata": {},
   "source": [
    "### Test percentage of the patients with stroke who are admitted to the stroke unit."
   ]
  },
  {
   "cell_type": "code",
   "execution_count": 13,
   "id": "2bb545d2",
   "metadata": {},
   "outputs": [
    {
     "name": "stdout",
     "output_type": "stream",
     "text": [
      "% stroke: 54.43%\n",
      "% tia : 6.59%\n",
      "% complex neuro: 18.12%\n",
      "% Others: 20.86%\n"
     ]
    }
   ],
   "source": [
    "# percentage of patients with stroke who are admitted to the stroke unit\n",
    "stroke_percentage = results[\"n_stroke\"] / results[\"n_total\"]\n",
    "tia_percentage = results[\"n_tia\"] / results[\"n_total\"]\n",
    "complex_percentage = results[\"n_complex_neuro\"] / results[\"n_total\"]\n",
    "other_percentage = results[\"n_other\"] / results[\"n_total\"]\n",
    "\n",
    "print(f\"% stroke: {stroke_percentage*100:.2f}%\")\n",
    "print(f\"% tia : {tia_percentage*100:.2f}%\")\n",
    "print(f\"% complex neuro: {complex_percentage*100:.2f}%\")\n",
    "print(f\"% Others: {other_percentage*100:.2f}%\")"
   ]
  },
  {
   "cell_type": "markdown",
   "id": "a48ffebd-5af0-4354-89bc-7de77ee60e8b",
   "metadata": {},
   "source": [
    "## A hospital that only provides surgery for hip fractures"
   ]
  },
  {
   "cell_type": "code",
   "execution_count": 14,
   "id": "8228ab0c-cc99-48e2-a2c9-c9dcce8d854f",
   "metadata": {},
   "outputs": [
    {
     "data": {
      "text/plain": [
       "{'n_stroke': 0,\n",
       " 'n_tia': 113,\n",
       " 'n_complex_neuro': 0,\n",
       " 'n_other': 0,\n",
       " 'n_total': 113}"
      ]
     },
     "execution_count": 14,
     "metadata": {},
     "output_type": "execute_result"
    }
   ],
   "source": [
    "M = 1_000_000\n",
    "experiment = Experiment(iat_stroke=M, iat_complex_neuro=M, iat_other=M)\n",
    "results = single_run(experiment)\n",
    "results"
   ]
  }
 ],
 "metadata": {
  "kernelspec": {
   "display_name": "sim_env",
   "language": "python",
   "name": "python3"
  },
  "language_info": {
   "codemirror_mode": {
    "name": "ipython",
    "version": 3
   },
   "file_extension": ".py",
   "mimetype": "text/x-python",
   "name": "python",
   "nbconvert_exporter": "python",
   "pygments_lexer": "ipython3",
   "version": "3.11.9"
  }
 },
 "nbformat": 4,
 "nbformat_minor": 5
}

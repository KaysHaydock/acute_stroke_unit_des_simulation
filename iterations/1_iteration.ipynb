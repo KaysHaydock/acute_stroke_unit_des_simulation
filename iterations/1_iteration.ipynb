{
 "cells": [
  {
   "cell_type": "markdown",
   "id": "99094d6a-bbc9-4b1f-893b-6bbb8137f038",
   "metadata": {},
   "source": [
    "## Iteration 1: initial model includes only one type of patient arrival and setting up the model logic Patient class, scenario class(expirement class), and AcuteStrokeUnit class"
   ]
  },
  {
   "cell_type": "code",
   "execution_count": 18,
   "id": "78918816-d939-4a46-9ca9-4f0b1d296fa4",
   "metadata": {},
   "outputs": [
    {
     "data": {
      "text/plain": [
       "'4.1.1'"
      ]
     },
     "execution_count": 18,
     "metadata": {},
     "output_type": "execute_result"
    }
   ],
   "source": [
    "# Imports\n",
    "import simpy\n",
    "\n",
    "import numpy as np\n",
    "import pandas as pd\n",
    "\n",
    "import math\n",
    "\n",
    "simpy.__version__"
   ]
  },
  {
   "cell_type": "markdown",
   "id": "bdb511b7-868b-4f94-901b-83d200c2876a",
   "metadata": {},
   "source": [
    "### Below is test script only"
   ]
  },
  {
   "cell_type": "code",
   "execution_count": 19,
   "id": "58d94b1c-2448-4726-a26a-e1ff86058dc8",
   "metadata": {},
   "outputs": [],
   "source": [
    "def print_patient_details(acute, esd):\n",
    "    \"\"\"\n",
    "    Helper function.\n",
    "    Formats length of stay in data frame\n",
    "    \"\"\"\n",
    "    df = pd.DataFrame(np.vstack([sample_acute, sample_esd])).T\n",
    "    df.columns = [\"acute\", \"esd\"]\n",
    "    return df.round(2)"
   ]
  },
  {
   "cell_type": "code",
   "execution_count": 20,
   "id": "fa0c3469-d831-457d-9a17-a1d4a82190e7",
   "metadata": {},
   "outputs": [
    {
     "data": {
      "application/vnd.microsoft.datawrangler.viewer.v0+json": {
       "columns": [
        {
         "name": "index",
         "rawType": "int64",
         "type": "integer"
        },
        {
         "name": "acute",
         "rawType": "float64",
         "type": "float"
        },
        {
         "name": "esd",
         "rawType": "float64",
         "type": "float"
        }
       ],
       "conversionMethod": "pd.DataFrame",
       "ref": "4e87d8e5-9cab-4ef0-af1f-a51b538f00de",
       "rows": [
        [
         "0",
         "7.21",
         "28.63"
        ],
        [
         "1",
         "7.01",
         "4.05"
        ],
        [
         "2",
         "7.15",
         "6.69"
        ],
        [
         "3",
         "0.84",
         "7.23"
        ],
        [
         "4",
         "0.26",
         "4.48"
        ]
       ],
       "shape": {
        "columns": 2,
        "rows": 5
       }
      },
      "text/html": [
       "<div>\n",
       "<style scoped>\n",
       "    .dataframe tbody tr th:only-of-type {\n",
       "        vertical-align: middle;\n",
       "    }\n",
       "\n",
       "    .dataframe tbody tr th {\n",
       "        vertical-align: top;\n",
       "    }\n",
       "\n",
       "    .dataframe thead th {\n",
       "        text-align: right;\n",
       "    }\n",
       "</style>\n",
       "<table border=\"1\" class=\"dataframe\">\n",
       "  <thead>\n",
       "    <tr style=\"text-align: right;\">\n",
       "      <th></th>\n",
       "      <th>acute</th>\n",
       "      <th>esd</th>\n",
       "    </tr>\n",
       "  </thead>\n",
       "  <tbody>\n",
       "    <tr>\n",
       "      <th>0</th>\n",
       "      <td>7.21</td>\n",
       "      <td>28.63</td>\n",
       "    </tr>\n",
       "    <tr>\n",
       "      <th>1</th>\n",
       "      <td>7.01</td>\n",
       "      <td>4.05</td>\n",
       "    </tr>\n",
       "    <tr>\n",
       "      <th>2</th>\n",
       "      <td>7.15</td>\n",
       "      <td>6.69</td>\n",
       "    </tr>\n",
       "    <tr>\n",
       "      <th>3</th>\n",
       "      <td>0.84</td>\n",
       "      <td>7.23</td>\n",
       "    </tr>\n",
       "    <tr>\n",
       "      <th>4</th>\n",
       "      <td>0.26</td>\n",
       "      <td>4.48</td>\n",
       "    </tr>\n",
       "  </tbody>\n",
       "</table>\n",
       "</div>"
      ],
      "text/plain": [
       "   acute    esd\n",
       "0   7.21  28.63\n",
       "1   7.01   4.05\n",
       "2   7.15   6.69\n",
       "3   0.84   7.23\n",
       "4   0.26   4.48"
      ]
     },
     "execution_count": 20,
     "metadata": {},
     "output_type": "execute_result"
    }
   ],
   "source": [
    "# first retest - 5 patients included.\n",
    "N_PATIENTS = 5\n",
    "\n",
    "# create two random state objects\n",
    "# both distributions are using the same single stream of pseudo random numbers\n",
    "rs_acute = np.random.default_rng(seed=42)\n",
    "rs_esd = np.random.default_rng(seed=101)\n",
    "\n",
    "sample_acute = rs_acute.exponential(scale=3, size=N_PATIENTS)\n",
    "sample_esd = rs_esd.exponential(scale=7, size=N_PATIENTS)\n",
    "\n",
    "print_patient_details(sample_acute, sample_esd)"
   ]
  },
  {
   "cell_type": "code",
   "execution_count": 21,
   "id": "6cfb16eb-d0fd-4cae-bb68-9685a1cb7772",
   "metadata": {},
   "outputs": [
    {
     "data": {
      "application/vnd.microsoft.datawrangler.viewer.v0+json": {
       "columns": [
        {
         "name": "index",
         "rawType": "int64",
         "type": "integer"
        },
        {
         "name": "acute",
         "rawType": "float64",
         "type": "float"
        },
        {
         "name": "esd",
         "rawType": "float64",
         "type": "float"
        }
       ],
       "conversionMethod": "pd.DataFrame",
       "ref": "fa858f16-be6d-41a8-ab0d-7f50a652838f",
       "rows": [
        [
         "0",
         "7.21",
         "28.63"
        ],
        [
         "1",
         "7.01",
         "4.05"
        ]
       ],
       "shape": {
        "columns": 2,
        "rows": 2
       }
      },
      "text/html": [
       "<div>\n",
       "<style scoped>\n",
       "    .dataframe tbody tr th:only-of-type {\n",
       "        vertical-align: middle;\n",
       "    }\n",
       "\n",
       "    .dataframe tbody tr th {\n",
       "        vertical-align: top;\n",
       "    }\n",
       "\n",
       "    .dataframe thead th {\n",
       "        text-align: right;\n",
       "    }\n",
       "</style>\n",
       "<table border=\"1\" class=\"dataframe\">\n",
       "  <thead>\n",
       "    <tr style=\"text-align: right;\">\n",
       "      <th></th>\n",
       "      <th>acute</th>\n",
       "      <th>esd</th>\n",
       "    </tr>\n",
       "  </thead>\n",
       "  <tbody>\n",
       "    <tr>\n",
       "      <th>0</th>\n",
       "      <td>7.21</td>\n",
       "      <td>28.63</td>\n",
       "    </tr>\n",
       "    <tr>\n",
       "      <th>1</th>\n",
       "      <td>7.01</td>\n",
       "      <td>4.05</td>\n",
       "    </tr>\n",
       "  </tbody>\n",
       "</table>\n",
       "</div>"
      ],
      "text/plain": [
       "   acute    esd\n",
       "0   7.21  28.63\n",
       "1   7.01   4.05"
      ]
     },
     "execution_count": 21,
     "metadata": {},
     "output_type": "execute_result"
    }
   ],
   "source": [
    "# second retest - 2 patients included.\n",
    "N_PATIENTS = 2\n",
    "\n",
    "# create two random state objects\n",
    "# both distributions are using the same single stream of pseudo random numbers\n",
    "rs_acute = np.random.default_rng(seed=42)\n",
    "rs_esd = np.random.default_rng(seed=101)\n",
    "\n",
    "sample_acute = rs_acute.exponential(scale=3, size=N_PATIENTS)\n",
    "sample_esd = rs_esd.exponential(scale=7, size=N_PATIENTS)\n",
    "\n",
    "print_patient_details(sample_acute, sample_esd)"
   ]
  },
  {
   "cell_type": "markdown",
   "id": "f8395c24-0805-4630-8499-176f561c4044",
   "metadata": {},
   "source": [
    "### 1. Patient generator for inter-arrival times - Using Exponential Distribution with an arrival ever 1.2 days"
   ]
  },
  {
   "cell_type": "code",
   "execution_count": 22,
   "id": "ebefeb54-e482-4800-be39-80d8d136c655",
   "metadata": {},
   "outputs": [],
   "source": [
    "def patient_arrival_generator(env, random_seed=None):\n",
    "    \"\"\"\n",
    "    Patient arrive every 1.2 days.\n",
    "\n",
    "    Parameters:\n",
    "    ------\n",
    "    env: simpy.Environment\n",
    "\n",
    "    random_state: int, optional (default=None)\n",
    "    if set then used as random seed to control sampling.\n",
    "    \"\"\"\n",
    "    acute_arrivals = np.random.default_rng(random_seed)\n",
    "\n",
    "    patient_id = 1\n",
    "    while True:\n",
    "        inter_arrival_time = acute_arrivals.exponential(1.2)\n",
    "        yield env.timeout(inter_arrival_time)\n",
    "\n",
    "        print(f\"Patient arrives at: {env.now}\")\n",
    "        patient_id += 1"
   ]
  },
  {
   "cell_type": "code",
   "execution_count": 23,
   "id": "ae2c51dd-7d3a-4ea7-af66-8e1123f39c95",
   "metadata": {},
   "outputs": [
    {
     "name": "stdout",
     "output_type": "stream",
     "text": [
      "Patient arrives at: 2.8850503247591934\n",
      "Patient arrives at: 5.688477911748537\n",
      "Patient arrives at: 8.550191111597643\n",
      "Patient arrives at: 8.885944259419542\n",
      "Patient arrives at: 8.989669139057595\n",
      "End of run. Simulation clock time = 10\n"
     ]
    }
   ],
   "source": [
    "# model parameters\n",
    "RUN_LENGTH = 10\n",
    "SEED = 42\n",
    "\n",
    "env = simpy.Environment()\n",
    "env.process(patient_arrival_generator(env, random_seed=SEED))\n",
    "env.run(until=RUN_LENGTH)\n",
    "\n",
    "print(f\"End of run. Simulation clock time = {env.now}\")"
   ]
  },
  {
   "cell_type": "markdown",
   "id": "65e1b4cc-f185-4969-9497-48054128e3da",
   "metadata": {},
   "source": [
    "---"
   ]
  },
  {
   "cell_type": "markdown",
   "id": "514b6739-d7ae-4a5d-a869-e1c4d56d5652",
   "metadata": {},
   "source": [
    "# Start of iteration 1"
   ]
  },
  {
   "cell_type": "markdown",
   "id": "a867b58e-4b4f-4df2-bce0-079ea9264b2b",
   "metadata": {},
   "source": [
    "### Exponential Distribution"
   ]
  },
  {
   "cell_type": "code",
   "execution_count": 24,
   "id": "690d8eaa-9411-4024-bb10-f73c48953d71",
   "metadata": {},
   "outputs": [],
   "source": [
    "class Exponential:\n",
    "    \"\"\"\n",
    "    Convenience class for the exponential distribution.\n",
    "    packages up distribution parameters, seed and random generator.\n",
    "    \"\"\"\n",
    "\n",
    "    def __init__(self, mean, random_seed=None):\n",
    "        \"\"\"\n",
    "        Constructor\n",
    "\n",
    "        Params:\n",
    "        ------\n",
    "        mean: float\n",
    "            The mean of the exponential distribution\n",
    "\n",
    "        random_seed: int, optional (default=None)\n",
    "            A random seed to reproduce samples.  If set to none then a unique\n",
    "            sample is created.\n",
    "        \"\"\"\n",
    "        self.rand = np.random.default_rng(seed=random_seed)\n",
    "        self.mean = mean\n",
    "\n",
    "    def sample(self, size=None):\n",
    "        \"\"\"\n",
    "        Generate a sample from the exponential distribution\n",
    "\n",
    "        Params:\n",
    "        -------\n",
    "        size: int, optional (default=None)\n",
    "            the number of samples to return.  If size=None then a single\n",
    "            sample is returned.\n",
    "        \"\"\"\n",
    "        return self.rand.exponential(self.mean, size=size)"
   ]
  },
  {
   "cell_type": "markdown",
   "id": "3a5166a1-0330-4870-98b1-e7e4a9e2fcdb",
   "metadata": {},
   "source": [
    "### Lognormal Distribution"
   ]
  },
  {
   "cell_type": "code",
   "execution_count": 25,
   "id": "2d45d14b-e7c8-45c4-b211-3e076bd2878f",
   "metadata": {},
   "outputs": [],
   "source": [
    "class Lognormal:\n",
    "    \"\"\"\n",
    "    Encapsulates a lognormal distirbution\n",
    "    \"\"\"\n",
    "\n",
    "    def __init__(self, mean, stdev, random_seed=None):\n",
    "        \"\"\"\n",
    "        Params:\n",
    "        -------\n",
    "        mean = mean of the lognormal distribution\n",
    "        stdev = standard dev of the lognormal distribution\n",
    "        \"\"\"\n",
    "        self.rand = np.random.default_rng(seed=random_seed)\n",
    "        mu, sigma = self.normal_moments_from_lognormal(mean, stdev**2)\n",
    "        self.mu = mu\n",
    "        self.sigma = sigma\n",
    "\n",
    "    def normal_moments_from_lognormal(self, m, v):\n",
    "        \"\"\"\n",
    "        Returns mu and sigma of normal distribution\n",
    "        underlying a lognormal with mean m and variance v\n",
    "        source: https://blogs.sas.com/content/iml/2014/06/04/simulate-lognormal\n",
    "        -data-with-specified-mean-and-variance.html\n",
    "\n",
    "        Params:\n",
    "        -------\n",
    "        m = mean of lognormal distribution\n",
    "        v = variance of lognormal distribution\n",
    "\n",
    "        Returns:\n",
    "        -------\n",
    "        (float, float)\n",
    "        \"\"\"\n",
    "        phi = math.sqrt(v + m**2)\n",
    "        mu = math.log(m**2 / phi)\n",
    "        sigma = math.sqrt(math.log(phi**2 / m**2))\n",
    "        return mu, sigma\n",
    "\n",
    "    def sample(self):\n",
    "        \"\"\"\n",
    "        Sample from the normal distribution\n",
    "        \"\"\"\n",
    "        return self.rand.lognormal(self.mu, self.sigma)"
   ]
  },
  {
   "cell_type": "markdown",
   "id": "4286de71-08d4-45f1-9f9b-1c335ccfaa22",
   "metadata": {},
   "source": [
    "### 2. Class Patient"
   ]
  },
  {
   "cell_type": "code",
   "execution_count": 26,
   "id": "a8106f12-f73a-411e-88c2-f13ee5238269",
   "metadata": {},
   "outputs": [],
   "source": [
    "class Patient:\n",
    "    \"\"\"\n",
    "    Encapsulates the process of a patient arriving at an acute stroke unit,\n",
    "    waiting for a bed, staying and then leaving.\n",
    "\n",
    "    Params:\n",
    "    ------\n",
    "    identifier: int\n",
    "        Unique identifier for the patient.\n",
    "\n",
    "    env: simpy.Environment\n",
    "        The simulation environment.\n",
    "\n",
    "    acute_unit: simpy.Resource\n",
    "        The acute stroke unit (beds as a resource).\n",
    "\n",
    "    los_dist: object\n",
    "        Distribution object for sampling the length of stay.\n",
    "    \"\"\"\n",
    "\n",
    "    def __init__(self, identifier, env, num_beds, los_dist):\n",
    "        self.identifier = identifier\n",
    "        self.env = env\n",
    "        self.num_beds = num_beds\n",
    "        self.los_dist = los_dist\n",
    "\n",
    "    def treatment(self):\n",
    "        \"\"\"\n",
    "        Simulates the patient treatment process:\n",
    "        1. Request a bed.\n",
    "        2. Stay in the unit for a sampled duration.\n",
    "        3. Leave the unit.\n",
    "        \"\"\"\n",
    "        start_wait = self.env.now  # Record when patient starts waiting\n",
    "\n",
    "        with self.num_beds.request() as req:\n",
    "            yield req  # Wait for a bed to become available\n",
    "\n",
    "            # Calculate waiting time\n",
    "            self.waiting_time = self.env.now - start_wait\n",
    "            print(\n",
    "                f\"Patient {self.identifier}\\\n",
    "                 gets a bed at {self.env.now:.2f} days \"\n",
    "                f\"(Wait time: {self.waiting_time:.2f} days)\"\n",
    "            )\n",
    "\n",
    "            # Sample length of stay\n",
    "            length_of_stay = self.los_dist.sample()\n",
    "            yield self.env.timeout(length_of_stay)  # Simulate hospital stay\n",
    "\n",
    "            print(\n",
    "                f\"Patient {self.identifier} leaves at {self.env.now:.2f} days\"\n",
    "            )"
   ]
  },
  {
   "cell_type": "markdown",
   "id": "9e81b65d-ec44-4d72-80d6-9947c2551629",
   "metadata": {},
   "source": [
    "### 3. Class AcuteStrokeUnit & Patient Generator for Arrivals"
   ]
  },
  {
   "cell_type": "code",
   "execution_count": 27,
   "id": "dc1e437e-a5eb-4101-a621-50c8a197ca3a",
   "metadata": {},
   "outputs": [],
   "source": [
    "class AcuteStrokeUnit:\n",
    "    \"\"\"\n",
    "    Params:\n",
    "    ------\n",
    "    env: simpy.Environment\n",
    "        The simulation environment.\n",
    "\n",
    "    num_beds: int\n",
    "        Number of beds in the unit.\n",
    "\n",
    "    arrival_dist: object\n",
    "        Distribution object for inter-arrival times.\n",
    "\n",
    "    los_dist: object\n",
    "        Distribution object for length of stay.\n",
    "    \"\"\"\n",
    "\n",
    "    def __init__(self, env, num_beds, arrival_dist, los_dist):\n",
    "        self.env = env\n",
    "        self.num_beds = num_beds\n",
    "        self.arrival_dist = arrival_dist\n",
    "        self.los_dist = los_dist\n",
    "        self.patient_count = 0\n",
    "\n",
    "    def patient_arrival_generator(self):\n",
    "        \"\"\"\n",
    "        Generates patients who arrive at the acute stroke unit.\n",
    "        This uses an exponential distribution.\n",
    "        \"\"\"\n",
    "        while True:\n",
    "            inter_arrival_time = self.arrival_dist.sample()\n",
    "            yield self.env.timeout(inter_arrival_time)  # Wait for next arrival\n",
    "\n",
    "            self.patient_count += 1  # Increment patient count manually\n",
    "            print(\n",
    "                f\"Patient {self.patient_count}\\\n",
    "                    arrives at {self.env.now:.2f} days\"\n",
    "            )\n",
    "\n",
    "            # Create a new patient and start treatment\n",
    "            new_patient = Patient(\n",
    "                self.patient_count, self.env, self.num_beds, self.los_dist\n",
    "            )\n",
    "\n",
    "            self.env.process(new_patient.treatment())"
   ]
  },
  {
   "cell_type": "markdown",
   "id": "34c3f814-418c-4423-9b8d-3a681544f1a0",
   "metadata": {},
   "source": [
    "### 4. Setting Parameters & Running Model"
   ]
  },
  {
   "cell_type": "code",
   "execution_count": 28,
   "id": "0c538a7f-8464-4c97-a4f1-e18df0e44d04",
   "metadata": {},
   "outputs": [
    {
     "name": "stdout",
     "output_type": "stream",
     "text": [
      "Patient 1                    arrives at 2.00 days\n",
      "Patient 1                 gets a bed at 2.00 days (Wait time: 0.00 days)\n",
      "Patient 2                    arrives at 3.95 days\n",
      "Patient 2                 gets a bed at 3.95 days (Wait time: 0.00 days)\n",
      "Patient 3                    arrives at 5.94 days\n",
      "Patient 3                 gets a bed at 5.94 days (Wait time: 0.00 days)\n",
      "Patient 4                    arrives at 6.17 days\n",
      "Patient 4                 gets a bed at 6.17 days (Wait time: 0.00 days)\n",
      "Patient 5                    arrives at 6.24 days\n",
      "Patient 5                 gets a bed at 6.24 days (Wait time: 0.00 days)\n",
      "Patient 6                    arrives at 7.45 days\n",
      "Patient 6                 gets a bed at 7.45 days (Wait time: 0.00 days)\n",
      "Patient 7                    arrives at 8.63 days\n",
      "Patient 7                 gets a bed at 8.63 days (Wait time: 0.00 days)\n",
      "Patient 2 leaves at 8.98 days\n",
      "Patient 1 leaves at 9.33 days\n",
      "End of run. Simulation clock time = 10.00 days\n"
     ]
    }
   ],
   "source": [
    "# Model parameters\n",
    "RUN_LENGTH = 10  # days\n",
    "N_BEDS = 10  # number of beds in the stroke unit\n",
    "ARRIVAL_RATE = 1.2  # number of patients per day\n",
    "MEAN_IAT = 1 / ARRIVAL_RATE  # inter-arrival time for patients (in days)\n",
    "MEAN_LOS = 7  # average length of stay for a patient (in days)\n",
    "STD_LOS = 2  # standard deviation for length of stay (in days)\n",
    "LOS_SEED = 42  # random seed for reproducibility\n",
    "\n",
    "ARR_SEED = 42  # random seed for reproducibility\n",
    "\n",
    "# Create distribution objects\n",
    "arrival_dist = Exponential(MEAN_IAT, random_seed=SEED)\n",
    "los_dist = Lognormal(MEAN_LOS, STD_LOS, random_seed=SEED)\n",
    "\n",
    "# Create SimPy environment\n",
    "env = simpy.Environment()\n",
    "bed_resoure = simpy.Resource(env, capacity=N_BEDS)\n",
    "\n",
    "# Create Acute Stroke Unit\n",
    "acute_unit = AcuteStrokeUnit(\n",
    "    env, bed_resoure, arrival_dist=arrival_dist, los_dist=los_dist\n",
    ")\n",
    "\n",
    "# Start patient arrivals\n",
    "env.process(acute_unit.patient_arrival_generator())\n",
    "\n",
    "# Run the simulation\n",
    "env.run(until=RUN_LENGTH)\n",
    "\n",
    "print(f\"End of run. Simulation clock time = {env.now:.2f} days\")"
   ]
  },
  {
   "cell_type": "markdown",
   "id": "a43dd520-9138-48b4-b803-79d160f62d3a",
   "metadata": {},
   "source": [
    "---"
   ]
  },
  {
   "cell_type": "markdown",
   "id": "1fe8a5d3-2580-4173-8510-7118313be993",
   "metadata": {},
   "source": [
    "### 1. Simplifying the large amount of inputs by using a Parameter/Scenario Class"
   ]
  },
  {
   "cell_type": "code",
   "execution_count": 29,
   "id": "516b9ce0-41cc-49cb-b5e2-f36a1675e6fd",
   "metadata": {},
   "outputs": [],
   "source": [
    "class Scenario:\n",
    "    \"\"\"\n",
    "    Stores model parameters and initialises probability distributions.\n",
    "\n",
    "    Parameters:\n",
    "    - env: SimPy environment\n",
    "    - num_beds: Number of beds available in the stroke unit\n",
    "    - mean_iat: Mean inter-arrival time for patients\n",
    "    - mean_los: Mean length of stay for patients\n",
    "    - std_los: Standard deviation of LOS\n",
    "    - arrival_seed: Random seed for patient arrivals\n",
    "    - los_seed: Random seed for length of stay distribution\n",
    "    \"\"\"\n",
    "\n",
    "    def __init__(\n",
    "        self,\n",
    "        env,\n",
    "        num_beds=N_BEDS,  # Number of beds\n",
    "        mean_iat=MEAN_IAT,  # Mean inter-arrival time\n",
    "        mean_los=MEAN_LOS,  # Mean length of stay\n",
    "        std_los=STD_LOS,  # Standard deviation of LOS\n",
    "        arrival_seed=ARR_SEED,  # Random seed for arrivals\n",
    "        los_seed=LOS_SEED,  # Random seed for LOS distribution\n",
    "    ):\n",
    "\n",
    "        # Simulation environment\n",
    "        self.env = env\n",
    "\n",
    "        # Beds are modeled as a limited resource\n",
    "        self.num_beds = num_beds = simpy.Resource(env, capacity=num_beds)\n",
    "\n",
    "        # Distributions for arrival times and length of stay\n",
    "        self.arrival_dist = Exponential(mean_iat, random_seed=arrival_seed)\n",
    "        self.los_dist = Lognormal(mean_los, std_los, random_seed=los_seed)"
   ]
  },
  {
   "cell_type": "markdown",
   "id": "9f4e5c9e-261a-43f3-9bc0-0a74a7ff0fd8",
   "metadata": {},
   "source": [
    "#### 2.) Switching on Trace"
   ]
  },
  {
   "cell_type": "code",
   "execution_count": 30,
   "id": "382a9c93-81a4-48a8-a248-549fde7d9260",
   "metadata": {},
   "outputs": [],
   "source": [
    "def trace(msg):\n",
    "    \"\"\"\n",
    "    Enables event tracing for debugging.\n",
    "\n",
    "    Params:\n",
    "    -------\n",
    "    msg: str\n",
    "        string to print to screen.\n",
    "    \"\"\"\n",
    "    if TRACE:\n",
    "        print(msg)"
   ]
  },
  {
   "cell_type": "markdown",
   "id": "5ee73ef0-40d1-480e-b621-25fb4b920c52",
   "metadata": {},
   "source": [
    "#### 3.) Patient Class"
   ]
  },
  {
   "cell_type": "code",
   "execution_count": 31,
   "id": "60d0eb20-1659-48d4-adbb-e2c16c05e0bc",
   "metadata": {},
   "outputs": [],
   "source": [
    "class Patient:  # noqa: F811\n",
    "    \"\"\"\n",
    "    Encapsulates the process of a patient arriving at an acute stroke unit,\n",
    "    waiting for a bed, staying and then leaving.\n",
    "\n",
    "    Parameters:\n",
    "    - identifier: Unique patient ID\n",
    "    - env: SimPy environment\n",
    "    - args: Scenario object containing hospital parameters\n",
    "    \"\"\"\n",
    "\n",
    "    def __init__(self, identifier, env, args):\n",
    "        self.identifier = identifier\n",
    "        self.env = env\n",
    "        self.num_beds = args.num_beds\n",
    "        self.los_dist = args.los_dist\n",
    "\n",
    "    def treatment(self):\n",
    "        \"\"\"\n",
    "        Simulates the patient treatment process:\n",
    "        1. Request a bed.\n",
    "        2. Stay in the unit for a sampled duration.\n",
    "        3. Leave the unit.\n",
    "        \"\"\"\n",
    "        start_wait = self.env.now  # Record when patient starts waiting\n",
    "\n",
    "        # Wait for an available bed\n",
    "        with self.num_beds.request() as req:\n",
    "            yield req  # Wait for a bed to become available\n",
    "\n",
    "            # Calculate waiting time\n",
    "            self.waiting_time = self.env.now - start_wait\n",
    "            print(\n",
    "                f\"Patient {self.identifier}\"\n",
    "                f\" gets a bed at {self.env.now:.2f} days \"\n",
    "                f\"( Wait time: {self.waiting_time:.2f} days)\"\n",
    "            )\n",
    "\n",
    "            # Sample length of stay and simulate hospital stay\n",
    "            length_of_stay = self.los_dist.sample()\n",
    "            yield self.env.timeout(length_of_stay)\n",
    "\n",
    "            print(\n",
    "                f\"Patient {self.identifier} leaves at {self.env.now:.2f} days\"\n",
    "            )"
   ]
  },
  {
   "cell_type": "markdown",
   "id": "428636d5-fe28-42ec-8a3a-fe61ed5a47ae",
   "metadata": {},
   "source": [
    "#### 4.) Acute Stroke Unit Class"
   ]
  },
  {
   "cell_type": "code",
   "execution_count": 32,
   "id": "4f38e9fb-bfd4-4c34-8d3f-d4efefa98efe",
   "metadata": {},
   "outputs": [],
   "source": [
    "class AcuteStrokeUnit:\n",
    "    \"\"\"\n",
    "    Parameters:\n",
    "    - env: SimPy environment\n",
    "    - args: Scenario object containing hospital parameters\n",
    "    \"\"\"\n",
    "\n",
    "    def __init__(self, env, args):\n",
    "        self.env = env\n",
    "        self.patient_count = 0\n",
    "        self.args = args\n",
    "\n",
    "    def patient_arrival_generator(self):\n",
    "        \"\"\"\n",
    "        Generates patients who arrive at the acute stroke unit.\n",
    "        This uses an exponential distribution.\n",
    "        \"\"\"\n",
    "        while True:\n",
    "            inter_arrival_time = self.args.arrival_dist.sample()\n",
    "            yield self.env.timeout(inter_arrival_time)  # Wait for next arrival\n",
    "\n",
    "            self.patient_count += 1  # Increment patient count manually\n",
    "            print(\n",
    "                f\"Patient {self.patient_count}\"\n",
    "                f\" arrives at {self.env.now:.2f} days\"\n",
    "            )\n",
    "\n",
    "            # Create a new patient and start treatment\n",
    "            # new_patient = Patient(self.patient_count, self.env,\n",
    "            # self.num_beds,\n",
    "            # self.los_dist)\n",
    "            new_patient = Patient(self.patient_count, self.env, self.args)\n",
    "\n",
    "            self.env.process(new_patient.treatment())"
   ]
  },
  {
   "cell_type": "markdown",
   "id": "b9a97a2d-7715-4203-a471-74b4ef757164",
   "metadata": {},
   "source": [
    "#### 5.) Model Parameters"
   ]
  },
  {
   "cell_type": "code",
   "execution_count": 33,
   "id": "6211647b-2975-4d20-8583-4ef2fc808ae2",
   "metadata": {},
   "outputs": [
    {
     "name": "stdout",
     "output_type": "stream",
     "text": [
      "Patient 1 arrives at 2.00 days\n",
      "Patient 1 gets a bed at 2.00 days ( Wait time: 0.00 days)\n",
      "Patient 2 arrives at 3.95 days\n",
      "Patient 3 arrives at 5.94 days\n",
      "Patient 4 arrives at 6.17 days\n",
      "Patient 5 arrives at 6.24 days\n",
      "Patient 6 arrives at 7.45 days\n",
      "Patient 7 arrives at 8.63 days\n",
      "Patient 1 leaves at 9.33 days\n",
      "Patient 2 gets a bed at 9.33 days ( Wait time: 5.38 days)\n",
      "End of run. Simulation clock time = 10.00 days\n"
     ]
    }
   ],
   "source": [
    "# Model parameters\n",
    "RUN_LENGTH = 10  # simulation run length in days\n",
    "N_BEDS = 1  # number of beds in the stroke unit\n",
    "ARRIVAL_RATE = 1.2  # number of patients per day\n",
    "MEAN_IAT = 1 / ARRIVAL_RATE  # inter-arrival time for patients (in days)\n",
    "MEAN_LOS = 7  # average length of stay for a patient (in days)\n",
    "STD_LOS = 2  # standard deviation for length of stay (in days)\n",
    "SEED = 42  # random seed for reproducibility\n",
    "TRACE = True  # toggle event tracing (on/off)\n",
    "\n",
    "\n",
    "# Create SimPy environment\n",
    "env = simpy.Environment()\n",
    "\n",
    "# Create default scenario with parameters\n",
    "default_args = Scenario(\n",
    "    env,\n",
    "    num_beds=N_BEDS,\n",
    "    mean_iat=MEAN_IAT,\n",
    "    mean_los=MEAN_LOS,\n",
    "    std_los=STD_LOS,\n",
    "    arrival_seed=ARR_SEED,\n",
    "    los_seed=LOS_SEED,\n",
    ")\n",
    "\n",
    "# Create Acute Stroke Unit\n",
    "acute_unit = AcuteStrokeUnit(env, default_args)\n",
    "\n",
    "# Start patient arrivals\n",
    "env.process(acute_unit.patient_arrival_generator())\n",
    "\n",
    "# Run the simulation\n",
    "env.run(until=RUN_LENGTH)\n",
    "\n",
    "print(f\"End of run. Simulation clock time = {env.now:.2f} days\")"
   ]
  },
  {
   "cell_type": "markdown",
   "id": "ea36c5b6-fa68-49db-bac6-9ce740de3484",
   "metadata": {},
   "source": [
    "![Iteration 1](../Images/iteration_1.png)\n"
   ]
  }
 ],
 "metadata": {
  "kernelspec": {
   "display_name": "sim_env",
   "language": "python",
   "name": "python3"
  },
  "language_info": {
   "codemirror_mode": {
    "name": "ipython",
    "version": 3
   },
   "file_extension": ".py",
   "mimetype": "text/x-python",
   "name": "python",
   "nbconvert_exporter": "python",
   "pygments_lexer": "ipython3",
   "version": "3.11.9"
  }
 },
 "nbformat": 4,
 "nbformat_minor": 5
}

{
 "cells": [
  {
   "cell_type": "markdown",
   "metadata": {},
   "source": [
    "# Iteration 7: includes Audit class to record delays and calculate delay probabilities aslo it includes multiple repllicates run function of the model. Includes a warm up analysis and plotting. Also includes the 3 different scenarios.\n"
   ]
  },
  {
   "cell_type": "markdown",
   "metadata": {},
   "source": [
    "---"
   ]
  },
  {
   "cell_type": "markdown",
   "metadata": {},
   "source": [
    "## **Patient Admission Sources and Flows in the Acute Stroke Unit (ASU)**\n",
    "\n",
    "Patients enter the hospital through various admission pathways and are assigned to the Acute Stroke Unit (ASU) based on their condition. This section provides a breakdown of admission sources, average time to admission, length of stay, and discharge destinations for different patient types.\n",
    "\n",
    "---\n",
    "\n",
    "### **1. Patient Admissions by Type**\n",
    "\n",
    "| **Patient Type**                 | **Admissions (n)** | **Percentage (%)** |\n",
    "|----------------------------------|--------------------|---------------------|\n",
    "| Stroke                           | 1,320              | 54%                 |\n",
    "| Transient Ischemic Attack (TIA)  | 158                | 6%                  |\n",
    "| Complex Neurological             | 456                | 19%                 |\n",
    "| Other Medical Cases              | 510                | 21%                 |\n",
    "\n",
    "**Note:** *\"New Admissions\" refer to patients directly admitted to the hospital with the above conditions.*\n",
    "\n",
    "---\n",
    "\n",
    "### **2. Average Time to Admission**  \n",
    "\n",
    "| **Patient Category**             | **Mean Time to Admission (Days)** |\n",
    "|----------------------------------|-----------------------------------|\n",
    "| Stroke                           | 1.2                               |\n",
    "| TIA                              | 9.3                               |\n",
    "| Complex Neurological             | 3.6                               |\n",
    "| Other Medical Cases              | 3.2                               |\n",
    "\n",
    "---\n",
    "\n",
    "### **3. Acute Length of Stay (LoS)**  \n",
    "\n",
    "Length of stay in the ASU follows a **lognormal distribution**. Descriptive statistics for each patient group are provided below:\n",
    "\n",
    "| **Patient Group**      | **Mean** | **Stdev** | **Median** | **5th %ile** | **25th %ile** | **75th %ile** | **95th %ile** |\n",
    "|------------------------|----------|-----------|------------|--------------|----------------|----------------|----------------|\n",
    "| Stroke                 | 7.4      | 8.6       | 4.0        | 1.0          | 2.0            | 9.0            | 23.0           |\n",
    "| TIA                    | 1.8      | 2.3       | 1.0        | 0.5          | 1.0            | 2.0            | 4.0            |\n",
    "| Complex Neurological   | 4.0      | 5.0       | 2.0        | 0.5          | 1.0            | 5.0            | 13.6           |\n",
    "| Other                  | 3.8      | 5.2       | 2.0        | 0.5          | 1.0            | 5.0            | 12.1           |\n",
    "\n",
    "---\n",
    "\n",
    "### **4. Patient Transfer Probabilities After Acute Phase**  \n",
    "\n",
    "Following their acute stay, patients are transferred to Rehabilitation Units (RU), Extended Stay Discharge (ESD), or other destinations (e.g., home, care facilities, or mortality):\n",
    "\n",
    "| **Destination** | **Stroke** | **TIA** | **Complex Neurological** | **Other** |\n",
    "|-----------------|------------|---------|---------------------------|-----------|\n",
    "| Rehabilitation  | 24%        | 1%      | 11%                       | 5%        |\n",
    "| ESD             | 13%        | 1%      | 5%                        | 10%       |\n",
    "| Other*          | 63%        | 98%     | 84%                       | 85%       |\n",
    "\n",
    "*“Other” includes discharge to home, care homes, or death.*\n",
    "\n",
    "---\n",
    "\n",
    "### **5. Process Flow Diagram**\n",
    "\n",
    "The following diagram illustrates the patient flow logic within the replicated ASU model:\n",
    "\n",
    "![Iteration 1](images/replicated_model.png)"
   ]
  },
  {
   "cell_type": "markdown",
   "metadata": {},
   "source": [
    "## 1. Imports "
   ]
  },
  {
   "cell_type": "code",
   "execution_count": 2,
   "metadata": {},
   "outputs": [],
   "source": [
    "from distribution import Exponential, Lognormal\n",
    "from joblib import Parallel, delayed\n",
    "import numpy as np\n",
    "import pandas as pd\n",
    "import itertools\n",
    "import simpy\n",
    "import matplotlib.pyplot as plt\n",
    "import seaborn as sns\n",
    "from scipy.stats import t\n",
    "\n",
    "sns.set()"
   ]
  },
  {
   "cell_type": "markdown",
   "metadata": {},
   "source": [
    "## 2. Constants"
   ]
  },
  {
   "cell_type": "code",
   "execution_count": 3,
   "metadata": {},
   "outputs": [],
   "source": [
    "# Model parameters\n",
    "\n",
    "# RUN_LENGTH\n",
    "WARM_UP_PERIOD = 365 * 3\n",
    "\n",
    "DEFAULT_RESULTS_COLLECTION_PERIOD = 365 * 5\n",
    "\n",
    "RUN_LENGTH = DEFAULT_RESULTS_COLLECTION_PERIOD + WARM_UP_PERIOD\n",
    "\n",
    "# default number of repetitions\n",
    "DEFAULT_N_REPS = 5\n",
    "\n",
    "# default mean inter-arrival times(exp)\n",
    "IAT_STROKE = 1.2\n",
    "IAT_TIA = 9.3\n",
    "IAT_COMPLEX_NEURO = 3.6\n",
    "IAT_OTHER = 3.2\n",
    "\n",
    "# Default Length of Stay (LOS) parameters\n",
    "# (mean, stdev for Lognormal distribution\n",
    "LOS_STROKE = (7.4, 8.6)\n",
    "LOS_TIA = (1.8, 2.3)\n",
    "LOS_COMPLEX_NEURO = (4.0, 5.0)\n",
    "LOS_OTHER = (3.8, 5.2)\n",
    "LOS_STROKE_NESD = (7.4, 8.6)\n",
    "LOS_STROKE_ESD = (4.6, 4.8)\n",
    "LOS_STROKE_MORTALITY = (7.0, 8.7)\n",
    "\n",
    "# Acute Stroke Unit (ASU) bed capacity\n",
    "ASU_BEDS = 10\n",
    "\n",
    "# % where patients go after the Acute Stroke Unit (ASU)\n",
    "TRANSFER_PROBABILITIES = {\n",
    "    \"stroke\": {\"rehab\": 0.24, \"esd\": 0.13, \"other\": 0.63},\n",
    "    \"tia\": {\"rehab\": 0.01, \"esd\": 0.01, \"other\": 0.98},\n",
    "    \"complex_neuro\": {\"rehab\": 0.11, \"esd\": 0.05, \"other\": 0.84},\n",
    "    \"other\": {\"rehab\": 0.05, \"esd\": 0.10, \"other\": 0.85},\n",
    "}\n",
    "\n",
    "\n",
    "# sampling settings, 4 for arrivals, 4 for LOS\n",
    "# and for 4 transfer probabilities\n",
    "N_STREAMS = 12\n",
    "DEFAULT_RND_SET = 101\n",
    "\n",
    "# Boolean switch to simulation results as the model runs\n",
    "TRACE = False"
   ]
  },
  {
   "cell_type": "markdown",
   "metadata": {},
   "source": [
    "## 3. Helper classes and functions"
   ]
  },
  {
   "cell_type": "code",
   "execution_count": 4,
   "metadata": {},
   "outputs": [],
   "source": [
    "def trace(msg):\n",
    "    \"\"\"\n",
    "    Turing printing of events on and off.\n",
    "\n",
    "    Params:\n",
    "    -------\n",
    "    msg: str\n",
    "        string to print to screen.\n",
    "    \"\"\"\n",
    "    if TRACE:\n",
    "        print(msg)"
   ]
  },
  {
   "cell_type": "markdown",
   "metadata": {},
   "source": [
    "## 4. Audit Class"
   ]
  },
  {
   "cell_type": "code",
   "execution_count": 5,
   "metadata": {},
   "outputs": [],
   "source": [
    "class Auditor:\n",
    "    \"\"\"\n",
    "    Records and analyzes the performance\n",
    "    metrics of the Acute Stroke Unit model.\n",
    "    \"\"\"\n",
    "\n",
    "    def __init__(self):\n",
    "        \"\"\"\n",
    "        Initializes the Auditor with empty lists for\n",
    "        delay times and bed occupancy, plus a counter\n",
    "        for the number of patients after warm-up.\n",
    "\n",
    "        Attributes\n",
    "        ----------\n",
    "        delays : list\n",
    "            Stores tuples of (patient_type, delay, timestamp).\n",
    "        bed_occupancy : list\n",
    "            Stores tuples of (occupancy, timestamp).\n",
    "        n_patients : int\n",
    "            Tracks number of patients after warm-up.\n",
    "        \"\"\"\n",
    "        self.delays = []  # Stores (patient_type, delay, timestamp)\n",
    "        self.bed_occupancy = []  # Stores (occupancy, timestamp)\n",
    "\n",
    "    def record_delay(self, patient_type, delay, timestamp):\n",
    "        \"\"\"\n",
    "        Records the delay information for a patient.\n",
    "\n",
    "        Parameters\n",
    "        ----------\n",
    "        patient_type : str\n",
    "            The type of patient (e.g., 'stroke', 'TIA').\n",
    "        delay : float\n",
    "            The delay time experienced by the patient.\n",
    "        timestamp : float\n",
    "            The simulation time at which the delay occurred.\n",
    "        \"\"\"\n",
    "        self.delays.append((patient_type, delay, timestamp))\n",
    "\n",
    "    def record_occupancy(self, occupancy, timestamp):\n",
    "        \"\"\"\n",
    "        Records the bed occupancy at a given time.\n",
    "\n",
    "        Parameters\n",
    "        ----------\n",
    "        occupancy : int\n",
    "            The number of beds occupied.\n",
    "        timestamp : float\n",
    "            The simulation time at which the occupancy is recorded.\n",
    "        \"\"\"\n",
    "        self.bed_occupancy.append((occupancy, timestamp))\n",
    "\n",
    "    def count_patient_delays(self, warmup=0):\n",
    "        \"\"\"\n",
    "        Return counts of total, delayed, and non-delayed patients\n",
    "        after the given warm-up period.\n",
    "        \"\"\"\n",
    "        # Convert the stored data into a DataFrame\n",
    "        df = pd.DataFrame(\n",
    "            self.delays, columns=[\"patient_type\", \"delay\", \"timestamp\"]\n",
    "        )\n",
    "\n",
    "        # Filter out any data before warm-up\n",
    "        df = df[df[\"timestamp\"] >= warmup]\n",
    "\n",
    "        if df.empty:\n",
    "            return {\"n_total\": 0, \"delayed\": 0, \"non_delayed\": 0}\n",
    "        else:\n",
    "            # Count how many experienced a delay (delay > 0)\n",
    "            delayed_patients = (df[\"delay\"] > 0).sum()\n",
    "            total_patients = len(df)\n",
    "            nonlocal_non_delayed_patients = total_patients - delayed_patients\n",
    "\n",
    "        return {\n",
    "            \"n_total\": total_patients,\n",
    "            \"delayed\": delayed_patients,\n",
    "            \"non_delayed\": nonlocal_non_delayed_patients,\n",
    "        }\n",
    "\n",
    "    def compute_delay_prob(self, warmup=0):\n",
    "        \"\"\"\n",
    "        Computes the delay probability after the warm-up period.\n",
    "        Here, delay probability means the fraction of patients\n",
    "        who experienced any delay (delay > 0).\n",
    "\n",
    "        Parameters\n",
    "        ----------\n",
    "        warmup : int, optional\n",
    "            The warm-up period duration to exclude from\n",
    "            the analysis (default is 0).\n",
    "\n",
    "        Returns\n",
    "        -------\n",
    "        dict\n",
    "            A dictionary containing:\n",
    "            - \"overall\": the fraction of patients delayed.\n",
    "            - \"by_type\": a dictionary of delay fractions by patient type.\n",
    "        \"\"\"\n",
    "        # Convert to a DataFrame\n",
    "        df = pd.DataFrame(\n",
    "            self.delays, columns=[\"patient_type\", \"delay\", \"timestamp\"]\n",
    "        )\n",
    "        # Filter out data before warm-up\n",
    "        df = df[df[\"timestamp\"] >= warmup]\n",
    "        if df.empty:\n",
    "            return {\"overall\": 0.0, \"by_type\": {}}\n",
    "\n",
    "        # Compute whether delay occurred (1 if delay > 0, else 0)\n",
    "        df[\"is_delayed\"] = df[\"delay\"].apply(lambda x: 1 if x > 0 else 0)\n",
    "\n",
    "        overall_delay_prob = df[\"is_delayed\"].mean()\n",
    "        by_type = df.groupby(\"patient_type\")[\"is_delayed\"].mean().to_dict()\n",
    "\n",
    "        return {\"overall\": overall_delay_prob, \"by_type\": by_type}\n",
    "\n",
    "    def compute_avg_delay(self, warmup=0):\n",
    "        \"\"\"\n",
    "        Computes the average delay after the warm-up period.\n",
    "        This differs from `compute_delay_prob` by actually\n",
    "        reporting the mean delay time rather than a 0/1 fraction.\n",
    "\n",
    "        Parameters\n",
    "        ----------\n",
    "        warmup : int, optional\n",
    "            The warm-up period duration to exclude from\n",
    "            the analysis (default is 0).\n",
    "\n",
    "        Returns\n",
    "        -------\n",
    "        dict\n",
    "            A dictionary containing:\n",
    "            - \"overall\": the mean delay (in whatever time units used).\n",
    "            - \"by_type\": a dictionary of mean delay by patient type.\n",
    "        \"\"\"\n",
    "        # Convert to a DataFrame\n",
    "        df = pd.DataFrame(\n",
    "            self.delays, columns=[\"patient_type\", \"delay\", \"timestamp\"]\n",
    "        )\n",
    "        # Filter out data before warm-up\n",
    "        df = df[df[\"timestamp\"] >= warmup]\n",
    "        if df.empty:\n",
    "            return {\"overall\": 0.0, \"by_type\": {}}\n",
    "\n",
    "        overall_avg_delay = df[\"delay\"].mean()\n",
    "        by_type = df.groupby(\"patient_type\")[\"delay\"].mean().to_dict()\n",
    "\n",
    "        return {\"overall\": overall_avg_delay, \"by_type\": by_type}\n",
    "\n",
    "    def compute_bed_utilization(self, warmup=0):\n",
    "        \"\"\"\n",
    "        Computes the average bed utilization after\n",
    "        the warm-up period.\n",
    "\n",
    "        Parameters\n",
    "        ----------\n",
    "        warmup : int, optional\n",
    "            The warm-up period duration to exclude\n",
    "            from the analysis (default is 0).\n",
    "\n",
    "        Returns\n",
    "        -------\n",
    "        dict\n",
    "            A dictionary containing:\n",
    "            - \"overall\": the average occupancy over time.\n",
    "        \"\"\"\n",
    "        df = pd.DataFrame(\n",
    "            self.bed_occupancy, columns=[\"occupancy\", \"timestamp\"]\n",
    "        )\n",
    "        df = df[df[\"timestamp\"] >= warmup]\n",
    "\n",
    "        if df.empty:\n",
    "            return {\"overall\": 0.0}\n",
    "\n",
    "        return {\"overall\": df[\"occupancy\"].mean()}"
   ]
  },
  {
   "cell_type": "markdown",
   "metadata": {},
   "source": [
    "## 5. Experiment class"
   ]
  },
  {
   "cell_type": "code",
   "execution_count": 6,
   "metadata": {},
   "outputs": [],
   "source": [
    "class Experiment:\n",
    "    \"\"\"\n",
    "    Encapsulates the concept of an experiment for the Acute Stroke Unit\n",
    "    simulation.\n",
    "    Manages parameters, PRNG streams, and results.\n",
    "    \"\"\"\n",
    "\n",
    "    def __init__(\n",
    "        self,\n",
    "        auditor,\n",
    "        random_number_set=DEFAULT_RND_SET,\n",
    "        n_streams=N_STREAMS,\n",
    "        iat_stroke=IAT_STROKE,\n",
    "        iat_tia=IAT_TIA,\n",
    "        iat_complex_neuro=IAT_COMPLEX_NEURO,\n",
    "        iat_other=IAT_OTHER,\n",
    "        asu_beds=ASU_BEDS,\n",
    "        los_stroke=LOS_STROKE,\n",
    "        los_tia=LOS_TIA,\n",
    "        los_complex_neuro=LOS_COMPLEX_NEURO,\n",
    "        los_other=LOS_OTHER,\n",
    "        transfer_probabilities=TRANSFER_PROBABILITIES,\n",
    "    ):\n",
    "        \"\"\"\n",
    "        Initialize default parameters.\n",
    "        \"\"\"\n",
    "        # Sampling settings\n",
    "        self.random_number_set = random_number_set\n",
    "        self.n_streams = n_streams\n",
    "\n",
    "        # Model parameters\n",
    "        self.iat_stroke = iat_stroke\n",
    "        self.iat_tia = iat_tia\n",
    "        self.iat_complex_neuro = iat_complex_neuro\n",
    "        self.iat_other = iat_other\n",
    "        self.asu_beds = asu_beds\n",
    "\n",
    "        # LOS Parameters\n",
    "        self.los_stroke = los_stroke\n",
    "        self.los_tia = los_tia\n",
    "        self.los_complex_neuro = los_complex_neuro\n",
    "        self.los_other = los_other\n",
    "\n",
    "        # Transfer probabilities\n",
    "        self.transfer_probabilities = transfer_probabilities\n",
    "\n",
    "        # Initialize results storage\n",
    "        self.init_results_variables()\n",
    "\n",
    "        # Initialize sampling distributions (RNGs)\n",
    "        self.init_sampling()\n",
    "\n",
    "        # Audit object\n",
    "        self.auditor = auditor\n",
    "\n",
    "    def set_random_no_set(self, random_number_set):\n",
    "        \"\"\"\n",
    "        Controls the random sampling by re-seeding.\n",
    "        \"\"\"\n",
    "        self.random_number_set = random_number_set\n",
    "        self.init_sampling()\n",
    "\n",
    "    def init_sampling(self):\n",
    "        \"\"\"\n",
    "        Creates the distributions used by the model and initializes\n",
    "        the random seeds of each.\n",
    "        \"\"\"\n",
    "        # Create a new seed sequence\n",
    "        seed_sequence = np.random.SeedSequence(self.random_number_set)\n",
    "        # Produce n non-overlapping streams\n",
    "        self.seeds = seed_sequence.spawn(self.n_streams)\n",
    "\n",
    "        # Prepare a list of RNGs\n",
    "        rng_list = [np.random.default_rng(s.entropy) for s in self.seeds]\n",
    "\n",
    "        # Inter-arrival time distributions\n",
    "        self.arrival_stroke = Exponential(self.iat_stroke, self.seeds[0])\n",
    "        self.arrival_tia = Exponential(self.iat_tia, self.seeds[1])\n",
    "        self.arrival_complex_neuro = Exponential(\n",
    "            self.iat_complex_neuro, self.seeds[2]\n",
    "        )\n",
    "        self.arrival_other = Exponential(self.iat_other, self.seeds[3])\n",
    "\n",
    "        # LOS distributions using stored parameters\n",
    "        self.los_distributions = {\n",
    "            \"stroke\": Lognormal(\n",
    "                self.los_stroke[0], self.los_stroke[1], self.seeds[4]\n",
    "            ),\n",
    "            \"tia\": Lognormal(self.los_tia[0], self.los_tia[1], self.seeds[5]),\n",
    "            \"complex_neuro\": Lognormal(\n",
    "                self.los_complex_neuro[0],\n",
    "                self.los_complex_neuro[1],\n",
    "                self.seeds[6],\n",
    "            ),\n",
    "            \"other\": Lognormal(\n",
    "                self.los_other[0], self.los_other[1], self.seeds[7]\n",
    "            ),\n",
    "        }\n",
    "\n",
    "        # RNGs specifically for transfer choices (1 per patient type)\n",
    "        self.transfer_rngs = {\n",
    "            \"stroke\": rng_list[8],\n",
    "            \"tia\": rng_list[9],\n",
    "            \"complex_neuro\": rng_list[10],\n",
    "            \"other\": rng_list[11],\n",
    "        }\n",
    "\n",
    "    def init_results_variables(self):\n",
    "        \"\"\"\n",
    "        Initializes all the experiment variables used in results collection.\n",
    "        \"\"\"\n",
    "        self.results = {\n",
    "            \"n_stroke\": 0,\n",
    "            \"n_tia\": 0,\n",
    "            \"n_complex_neuro\": 0,\n",
    "            \"n_other\": 0,\n",
    "            \"n_patients\": 0,\n",
    "            \"stroke_transfer\": {\"rehab\": 0, \"esd\": 0, \"other\": 0},\n",
    "            \"tia_transfer\": {\"rehab\": 0, \"esd\": 0, \"other\": 0},\n",
    "            \"complex_neuro_transfer\": {\"rehab\": 0, \"esd\": 0, \"other\": 0},\n",
    "            \"other_transfer\": {\"rehab\": 0, \"esd\": 0, \"other\": 0},\n",
    "            \"total_transfers\": {\"rehab\": 0, \"esd\": 0, \"other\": 0},\n",
    "        }"
   ]
  },
  {
   "cell_type": "markdown",
   "metadata": {},
   "source": [
    "## 6. Patient Class"
   ]
  },
  {
   "cell_type": "code",
   "execution_count": 7,
   "metadata": {},
   "outputs": [],
   "source": [
    "class Patient:\n",
    "    \"\"\"\n",
    "    Represents a patient in the Acute Stroke Unit simulation.\n",
    "\n",
    "    Attributes\n",
    "    ----------\n",
    "    patient_id : int\n",
    "        Unique identifier for the patient.\n",
    "    env : simpy.Environment\n",
    "        The simulation environment.\n",
    "    args : Experiment\n",
    "        Experiment object containing simulation parameters and random streams.\n",
    "    acute_stroke_unit : AcuteStrokeUnit\n",
    "        Reference to the ASU resource (bed capacity, queue).\n",
    "    patient_type : str\n",
    "        Type of patient ('stroke', 'TIA', 'complex_neuro', 'other').\n",
    "    waiting_time : float\n",
    "        Time patient waits for a bed.\n",
    "    \"\"\"\n",
    "\n",
    "    def __init__(self, patient_id, env, args, acute_stroke_unit, patient_type):\n",
    "        self.patient_id = patient_id\n",
    "        self.env = env\n",
    "        self.args = args\n",
    "        self.acute_stroke_unit = acute_stroke_unit\n",
    "        self.patient_type = patient_type\n",
    "        self.waiting_time = 0.0\n",
    "\n",
    "    def treatment(self):\n",
    "        \"\"\"\n",
    "        Simulates the patients treatment process:\n",
    "        - Requests a bed (may wait if unavailable).\n",
    "        - Records waiting time and occupancy.\n",
    "        - Simulates length of stay (LOS).\n",
    "        - Upon discharge, calls `transfer()` to determine next destination.\n",
    "\n",
    "        Parameters\n",
    "        ----------\n",
    "        audit : Audit\n",
    "            Audit object used to record metrics such as\n",
    "            waiting time and bed occupancy.\n",
    "        \"\"\"\n",
    "        arrival_time = self.env.now\n",
    "        los_distribution = self.args.los_distributions[self.patient_type]\n",
    "\n",
    "        # Arrival message\n",
    "        trace(\n",
    "            f\"Patient {self.patient_id} ({self.patient_type.upper()})\\\n",
    "                arrives at {arrival_time:.2f}.\"\n",
    "        )\n",
    "\n",
    "        # Request bed from the ASU\n",
    "        with self.acute_stroke_unit.beds.request() as request:\n",
    "            yield request\n",
    "            self.delay = self.env.now - arrival_time\n",
    "            self.args.auditor.record_delay(\n",
    "                self.patient_type, self.delay, self.env.now\n",
    "            )\n",
    "            los = los_distribution.sample()\n",
    "\n",
    "            # Bed assigned message\n",
    "            trace(\n",
    "                f\"Patient {self.patient_id} ({self.patient_type.upper()}) \\\n",
    "                gets a bed at {self.env.now:.2f}.\"\n",
    "                f\" (Waited {self.delay:.2f} days)\"\n",
    "            )\n",
    "\n",
    "            if self.delay > 0:\n",
    "                trace(\n",
    "                    f\"Patient {self.patient_id} \\\n",
    "                    ({self.patient_type.upper()})  had a delay.)\"\n",
    "                )\n",
    "\n",
    "            # Simulate length of stay\n",
    "            yield self.env.timeout(los)\n",
    "\n",
    "            # Leaving message\n",
    "            trace(\n",
    "                f\"Patient {self.patient_id} ({self.patient_type.upper()}) \\\n",
    "                leaves at {self.env.now:.2f}.\"\n",
    "                f\" (LOS {los:.2f} days)\"\n",
    "            )\n",
    "\n",
    "        # Transfer the patient after discharge\n",
    "        self.transfer()\n",
    "\n",
    "    def transfer(self):\n",
    "        \"\"\"\n",
    "        Determines the patient's next destination based on\n",
    "        the transfer probabilities.\n",
    "        Logs and updates the experiment's results.\n",
    "        \"\"\"\n",
    "        # Access the RNG and probabilities for this patient type\n",
    "        rng = self.args.transfer_rngs[self.patient_type]\n",
    "        p_dict = self.args.transfer_probabilities[self.patient_type]\n",
    "        destinations = list(p_dict.keys())\n",
    "        probs = list(p_dict.values())\n",
    "\n",
    "        # Random draw for the transfer destination\n",
    "        destination = rng.choice(destinations, p=probs)\n",
    "        trace(\n",
    "            f\"Patient {self.patient_id} ({self.patient_type.upper()}) \\\n",
    "            is transferred to {destination.upper()}.\"\n",
    "        )\n",
    "\n",
    "        # Update results\n",
    "        self.args.results[\"total_transfers\"][destination] += 1\n",
    "        self.args.results[f\"{self.patient_type}_transfer\"][destination] += 1"
   ]
  },
  {
   "cell_type": "markdown",
   "metadata": {},
   "source": [
    "## 7. Acute Stroke Unit Class"
   ]
  },
  {
   "cell_type": "code",
   "execution_count": 8,
   "metadata": {},
   "outputs": [],
   "source": [
    "class AcuteStrokeUnit:\n",
    "    \"\"\"\n",
    "    Models the Acute Stroke Unit (ASU) in the hospital.\n",
    "    Manages bed resources and handles patient arrivals and admissions.\n",
    "\n",
    "    Attributes\n",
    "    ----------\n",
    "    env : simpy.Environment\n",
    "        The simulation environment.\n",
    "    args : Experiment\n",
    "        Experiment object containing model parameters and random streams.\n",
    "    beds : simpy.Resource\n",
    "        SimPy resource representing available ASU beds.\n",
    "    \"\"\"\n",
    "\n",
    "    def __init__(self, env, args):\n",
    "        self.env = env\n",
    "        self.args = args\n",
    "        self.beds = simpy.Resource(env, capacity=args.asu_beds)\n",
    "\n",
    "    def patient_arrivals(self, patient_type, arrival_distribution):\n",
    "        \"\"\"\n",
    "        Generator process that simulates patient arrivals of a specific type.\n",
    "        For each arrival:\n",
    "        - Waits based on inter-arrival time (Exponential distribution).\n",
    "        - Creates a new Patient instance.\n",
    "        - Starts the treatment process for the patient.\n",
    "        - Records arrival statistics in Experiment results.\n",
    "\n",
    "        Parameters\n",
    "        ----------\n",
    "        patient_type : str\n",
    "            Type of patient ('stroke', 'TIA', 'complex_neuro', 'other').\n",
    "        arrival_distribution : Exponential\n",
    "            Distribution object for sampling inter-arrival times.\n",
    "        audit : Audit\n",
    "            Audit object for recording delays and occupancy.\n",
    "        \"\"\"\n",
    "        for patient_count in itertools.count(start=1):\n",
    "            inter_arrival_time = arrival_distribution.sample()\n",
    "            yield self.env.timeout(inter_arrival_time)\n",
    "\n",
    "            # Track patient count\n",
    "            self.args.results[f\"n_{patient_type}\"] += 1\n",
    "            self.args.results[\"n_patients\"] += 1\n",
    "\n",
    "            trace(f\"{self.env.now:.2f}: {patient_type.upper()} arrival.\")\n",
    "\n",
    "            new_patient = Patient(\n",
    "                patient_count, self.env, self.args, self, patient_type\n",
    "            )\n",
    "            self.env.process(new_patient.treatment())\n",
    "\n",
    "    def track_occupancy(self):\n",
    "        \"\"\"\n",
    "        Track and record bed occupancy daily.\n",
    "        \"\"\"\n",
    "        while True:\n",
    "            occ = self.beds.count / self.beds.capacity\n",
    "            self.args.auditor.record_occupancy(occ, self.env.now)\n",
    "            yield self.env.timeout(1)"
   ]
  },
  {
   "cell_type": "markdown",
   "metadata": {},
   "source": [
    "## 8. Single run function"
   ]
  },
  {
   "cell_type": "code",
   "execution_count": 9,
   "metadata": {},
   "outputs": [],
   "source": [
    "def single_run(experiment, rep=0, run_length=RUN_LENGTH, warm_up=0):\n",
    "    \"\"\"\n",
    "    Perform a single run of the model and return the results.\n",
    "\n",
    "    Parameters\n",
    "    ----------\n",
    "    experiment : Experiment\n",
    "        The experiment/parameters to use with model\n",
    "    rep : int\n",
    "        The replication number (used to set random seeds).\n",
    "    run_length : float\n",
    "        The run length of the model in days (default = the constant set).\n",
    "    \"\"\"\n",
    "    # 1. Reset results for each run\n",
    "    experiment.init_results_variables()\n",
    "\n",
    "    # 2. Set the random number set for this run\n",
    "    experiment.set_random_no_set(rep)\n",
    "\n",
    "    # 3. Create a fresh environment and an AcuteStrokeUnit\n",
    "    env = simpy.Environment()\n",
    "    asu = AcuteStrokeUnit(env, experiment)\n",
    "\n",
    "    # 4. Create patient arrival processes for different types of patients\n",
    "    env.process(asu.patient_arrivals(\"stroke\", experiment.arrival_stroke))\n",
    "    env.process(asu.patient_arrivals(\"tia\", experiment.arrival_tia))\n",
    "    env.process(\n",
    "        asu.patient_arrivals(\"complex_neuro\", experiment.arrival_complex_neuro)\n",
    "    )\n",
    "    env.process(asu.patient_arrivals(\"other\", experiment.arrival_other))\n",
    "    trace(f\"Rep {rep}: Patient arrival processes started.\")\n",
    "\n",
    "    # track the bed occupancy daily\n",
    "    env.process(asu.track_occupancy())\n",
    "\n",
    "    # 5. Run the simulation\n",
    "    env.run(until=run_length + warm_up)\n",
    "    trace(f\"Rep {rep}: Simulation run completed.\")\n",
    "\n",
    "    # 6. Trace summary of total patients\n",
    "    total_patients = sum(\n",
    "        experiment.results[key]\n",
    "        for key in experiment.results\n",
    "        if key.startswith(\"n_\")\n",
    "    )\n",
    "    trace(f\"Final summary for rep={rep}: {total_patients} total patients.\")\n",
    "\n",
    "    # 7. Return experiment.results\n",
    "    return experiment.results"
   ]
  },
  {
   "cell_type": "markdown",
   "metadata": {},
   "source": [
    "## 9. Multiple runs function"
   ]
  },
  {
   "cell_type": "code",
   "execution_count": 10,
   "metadata": {},
   "outputs": [],
   "source": [
    "def multiple_replications(\n",
    "    scenario,\n",
    "    rc_period=DEFAULT_RESULTS_COLLECTION_PERIOD,\n",
    "    n_reps=DEFAULT_N_REPS,\n",
    "    warmup=0,\n",
    "):\n",
    "    \"\"\"\n",
    "    Perform multiple replications of the model.\n",
    "\n",
    "    Parameters\n",
    "    ----------\n",
    "    scenario : Scenario\n",
    "        Contains parameters/configuration for the model.\n",
    "    rc_period : float, optional\n",
    "        The number of minutes to run the model (beyond warmup)\n",
    "        to collect results. Default is DEFAULT_RESULTS_COLLECTION_PERIOD.\n",
    "    n_reps : int, optional\n",
    "        Number of independent replications to run.\n",
    "        Default is DEFAULT_N_REPS.\n",
    "    warmup : float, optional\n",
    "        The initial transient period (in minutes). Results\n",
    "        in this period are excluded. Default is 0.\n",
    "\n",
    "    Returns\n",
    "    -------\n",
    "    pd.DataFrame\n",
    "        A DataFrame containing the replication number (in index),\n",
    "        number of patients, overall delay probability, and average\n",
    "        bed utilization for each replication.\n",
    "    \"\"\"\n",
    "    # Lists to store replication results\n",
    "    n_patients = []\n",
    "    delay_probabilities = []\n",
    "    bed_utilisation = []\n",
    "    reps_info = []\n",
    "\n",
    "    for rep in range(n_reps):\n",
    "        # Use the same scenario object here, but if you need an\n",
    "        # independent copy of the scenario for each replication,\n",
    "        # make sure scenario is cloneable, e.g., scenario.copy()\n",
    "\n",
    "        exp_temp = scenario\n",
    "        scenario.auditor = Auditor()  # new Auditor\n",
    "\n",
    "        # Run the simulation for the specified period\n",
    "        single_run(exp_temp, rep=rep, run_length=rc_period)\n",
    "\n",
    "        # Collect metrics\n",
    "        # number of patients who were admitted to the unit\n",
    "        num_patients = exp_temp.auditor.count_patient_delays(warmup=warmup)\n",
    "        delay_prob = exp_temp.auditor.compute_delay_prob(warmup=warmup)\n",
    "        bed_util = exp_temp.auditor.compute_bed_utilization(warmup=warmup)\n",
    "\n",
    "        # Append results\n",
    "        n_patients.append(num_patients[\"n_total\"])\n",
    "        delay_probabilities.append(delay_prob[\"overall\"])\n",
    "        bed_utilisation.append(bed_util[\"overall\"])\n",
    "        reps_info.append(f\"Rep{rep + 1} of {n_reps}\")\n",
    "\n",
    "    # Create and return a DataFrame of the results\n",
    "    df = pd.DataFrame(\n",
    "        {\n",
    "            \"Patients\": n_patients,\n",
    "            \"Overall Delay Probability\": delay_probabilities,\n",
    "            \"Bed Utilisation\": bed_utilisation,\n",
    "        },\n",
    "        index=reps_info,\n",
    "    )\n",
    "\n",
    "    # Renaming the index so it’s clear (optional)\n",
    "    df.index.name = \"Replication\"\n",
    "\n",
    "    return df"
   ]
  },
  {
   "cell_type": "markdown",
   "metadata": {},
   "source": [
    "## 10. Multiple runs function with different beds"
   ]
  },
  {
   "cell_type": "code",
   "execution_count": 11,
   "metadata": {},
   "outputs": [],
   "source": [
    "def multiple_runs(\n",
    "    scenario,\n",
    "    beds_start,\n",
    "    beds_end,\n",
    "    n_reps=DEFAULT_N_REPS,\n",
    "    warmup=WARM_UP_PERIOD,\n",
    "):\n",
    "    \"\"\"\n",
    "    Perform multiple runs of the simulation across a range of bed capacities.\n",
    "\n",
    "    For each bed capacity (from beds_start to beds_end), runs the simulation\n",
    "    'n_reps' times and calculates the average patient count, delay probability,\n",
    "    and bed utilization.\n",
    "\n",
    "    Parameters\n",
    "    ----------\n",
    "    scenario : Scenario\n",
    "        A configured Scenario object or similar structure for the simulation.\n",
    "    n_reps : int\n",
    "        Number of replications for each bed capacity.\n",
    "    beds_start : int\n",
    "        Starting number of beds to simulate.\n",
    "    beds_end : int\n",
    "        Ending number of beds to simulate (inclusive).\n",
    "    warmup : float\n",
    "        Initial transient period (in minutes).\n",
    "        Results in this period are excluded.\n",
    "\n",
    "    Returns\n",
    "    -------\n",
    "    pandas.DataFrame\n",
    "        A summary DataFrame containing:\n",
    "            - Bed Capacity\n",
    "            - Avg. Patients      (average number of patients processed)\n",
    "            - Overall Bed Utilization\n",
    "            - Overall Delay Probability\n",
    "            - 1 in every n Patients  (reciprocal of delay probability)\n",
    "    \"\"\"\n",
    "\n",
    "    def run_single_experiment(bed, rep_id):\n",
    "        # Depending on your scenario class, you might need to clone\n",
    "        # or re-instantiate\n",
    "        # the scenario to avoid side-effects across replications.\n",
    "        experiment = scenario\n",
    "        scenario.auditor = Auditor()  # new Auditor\n",
    "        experiment.asu_beds = bed\n",
    "\n",
    "        # Run the simulation. The parameter 'rep=rep_id'\n",
    "        # might be used as a seed\n",
    "\n",
    "        single_run(experiment, rep=rep_id)\n",
    "\n",
    "        # Collect metrics from the Auditor\n",
    "        delay_p = experiment.auditor.compute_delay_prob(warmup=warmup)\n",
    "        util = experiment.auditor.compute_bed_utilization(warmup=warmup)\n",
    "        n_patients = experiment.auditor.count_patient_delays(warmup=warmup)\n",
    "\n",
    "        return n_patients[\"n_total\"], delay_p[\"overall\"], util[\"overall\"]\n",
    "\n",
    "    summary_list = []\n",
    "\n",
    "    for bed in range(beds_start, beds_end + 1):\n",
    "        print(\n",
    "            f\"Running experiment with {bed}\"\n",
    "            f\"beds and {n_reps} replications, end={beds_end}\"\n",
    "        )\n",
    "\n",
    "        # Run experiments in parallel for the current bed capacity\n",
    "        results = Parallel(n_jobs=-1)(\n",
    "            delayed(run_single_experiment)(bed, rep_id)\n",
    "            for rep_id in range(n_reps)\n",
    "        )\n",
    "\n",
    "        # Unpack the returned tuples\n",
    "        rep_patient_counts, rep_delay_probs, rep_bed_utils = zip(*results)\n",
    "\n",
    "        # Compute averages\n",
    "        avg_patients = np.mean(rep_patient_counts)\n",
    "        avg_delay_prob = np.mean(rep_delay_probs)\n",
    "        avg_bed_util = np.mean(rep_bed_utils)\n",
    "\n",
    "        summary_list.append(\n",
    "            {\n",
    "                \"Bed Capacity\": bed,\n",
    "                \"Avg. Patients\": avg_patients,\n",
    "                \"Overall Bed Utilization\": avg_bed_util,\n",
    "                \"Overall Delay Probability\": avg_delay_prob,\n",
    "                \"1 in every n Patients\": (\n",
    "                    1 / avg_delay_prob if avg_delay_prob != 0 else float(\"inf\")\n",
    "                ),\n",
    "            }\n",
    "        )\n",
    "\n",
    "    print(\"Finished running all experiments.\")\n",
    "\n",
    "    # Convert the summary list to a DataFrame\n",
    "    summary_df = pd.DataFrame(summary_list)\n",
    "    return summary_df"
   ]
  },
  {
   "cell_type": "markdown",
   "metadata": {},
   "source": [
    "## 11. Warmup analayis function"
   ]
  },
  {
   "cell_type": "code",
   "execution_count": 12,
   "metadata": {},
   "outputs": [],
   "source": [
    "def warmup_analysis(run_length=RUN_LENGTH, reps=5, interval=50):\n",
    "    \"\"\"\n",
    "    Warm-up period analysis.\n",
    "\n",
    "    Parameters\n",
    "    ----------\n",
    "    run_length : int\n",
    "        Total run length of the simulation.\n",
    "    reps : int\n",
    "        Number of replications.\n",
    "    interval : int\n",
    "        Interval for warm-up period analysis.\n",
    "\n",
    "    Returns\n",
    "    -------\n",
    "    pd.DataFrame\n",
    "        DataFrame containing the warm-up analysis results.\n",
    "    \"\"\"\n",
    "    results = []\n",
    "\n",
    "    for i in range(1, run_length, interval):\n",
    "        auditor = Auditor()\n",
    "        experiment = Experiment(auditor=auditor)\n",
    "        multi_rep = multiple_replications(\n",
    "            scenario=experiment, rc_period=i, n_reps=reps\n",
    "        )\n",
    "\n",
    "        delay_p = multi_rep[\"Overall Delay Probability\"].mean()\n",
    "        util = multi_rep[\"Bed Utilisation\"].mean()\n",
    "\n",
    "        results.append(\n",
    "            {\n",
    "                \"Run Length\": i,\n",
    "                \"reps\": reps,\n",
    "                \"Delay Probability\": delay_p,\n",
    "                \"Bed Utilisation\": util,\n",
    "            }\n",
    "        )\n",
    "\n",
    "    df = pd.DataFrame(results)\n",
    "    return df"
   ]
  },
  {
   "cell_type": "markdown",
   "metadata": {},
   "source": [
    "---"
   ]
  },
  {
   "cell_type": "markdown",
   "metadata": {},
   "source": [
    "## 12. Single run test & initial data inspection "
   ]
  },
  {
   "cell_type": "code",
   "execution_count": 13,
   "metadata": {},
   "outputs": [],
   "source": [
    "TRACE = False\n",
    "auditor = Auditor()\n",
    "experiment = Experiment(auditor=auditor)\n",
    "result = single_run(experiment)\n",
    "delay_p = experiment.auditor.compute_delay_prob(warmup=0)\n",
    "bed_utilisation = experiment.auditor.compute_bed_utilization(warmup=0)\n",
    "# number of patients who were admitted to the unit\n",
    "num_patients = experiment.auditor.count_patient_delays(warmup=0)"
   ]
  },
  {
   "cell_type": "code",
   "execution_count": 14,
   "metadata": {},
   "outputs": [
    {
     "data": {
      "text/plain": [
       "{'n_stroke': 2440,\n",
       " 'n_tia': 335,\n",
       " 'n_complex_neuro': 794,\n",
       " 'n_other': 922,\n",
       " 'n_patients': 4491,\n",
       " 'stroke_transfer': {'rehab': 594, 'esd': 314, 'other': 1524},\n",
       " 'tia_transfer': {'rehab': 4, 'esd': 3, 'other': 326},\n",
       " 'complex_neuro_transfer': {'rehab': 73, 'esd': 39, 'other': 682},\n",
       " 'other_transfer': {'rehab': 40, 'esd': 77, 'other': 800},\n",
       " 'total_transfers': {'rehab': 711, 'esd': 433, 'other': 3332}}"
      ]
     },
     "execution_count": 14,
     "metadata": {},
     "output_type": "execute_result"
    }
   ],
   "source": [
    "# number Patient arrivals and number number patient who are transferred.\n",
    "result"
   ]
  },
  {
   "cell_type": "code",
   "execution_count": 15,
   "metadata": {},
   "outputs": [
    {
     "data": {
      "text/plain": [
       "4486"
      ]
     },
     "execution_count": 15,
     "metadata": {},
     "output_type": "execute_result"
    }
   ],
   "source": [
    "# this is record of all pateints who have been admitted to the unit.\n",
    "delay_records = experiment.auditor.delays\n",
    "len(delay_records)"
   ]
  },
  {
   "cell_type": "code",
   "execution_count": 16,
   "metadata": {},
   "outputs": [
    {
     "data": {
      "text/plain": [
       "{'n_total': 4486, 'delayed': np.int64(2779), 'non_delayed': np.int64(1707)}"
      ]
     },
     "execution_count": 16,
     "metadata": {},
     "output_type": "execute_result"
    }
   ],
   "source": [
    "# number of patients who are admitted to the stroke unit.\n",
    "# number of patients who are are waited experience a delay in the stroke unit.\n",
    "\n",
    "num_patients"
   ]
  },
  {
   "cell_type": "code",
   "execution_count": 17,
   "metadata": {},
   "outputs": [
    {
     "name": "stdout",
     "output_type": "stream",
     "text": [
      "bed utilization: 0.8729452054794521\n",
      "delay probability: 0.6194828354881855\n",
      "delay probability of each patient type: {'complex_neuro': 0.6234256926952141, 'other': 0.6376496191512514, 'stroke': 0.603363412633306, 'tia': 0.6776119402985075}\n"
     ]
    }
   ],
   "source": [
    "# delay probability and bed utilization with warm up = 0\n",
    "print(f'bed utilization: {bed_utilisation[\"overall\"]}')\n",
    "print(f'delay probability: {delay_p[\"overall\"]}')\n",
    "print(f'delay probability of each patient type: {delay_p[\"by_type\"]}')"
   ]
  },
  {
   "cell_type": "code",
   "execution_count": 18,
   "metadata": {},
   "outputs": [],
   "source": [
    "TRACE = False\n",
    "auditor = Auditor()\n",
    "experiment = Experiment(auditor=auditor)\n",
    "result = single_run(experiment)\n",
    "delay_p = experiment.auditor.compute_delay_prob(warmup=WARM_UP_PERIOD)\n",
    "bed_utilisation = experiment.auditor.compute_bed_utilization(\n",
    "    warmup=WARM_UP_PERIOD\n",
    ")\n",
    "num_patients = experiment.auditor.count_patient_delays(warmup=WARM_UP_PERIOD)"
   ]
  },
  {
   "cell_type": "code",
   "execution_count": 19,
   "metadata": {},
   "outputs": [
    {
     "data": {
      "text/plain": [
       "{'n_stroke': 2440,\n",
       " 'n_tia': 335,\n",
       " 'n_complex_neuro': 794,\n",
       " 'n_other': 922,\n",
       " 'n_patients': 4491,\n",
       " 'stroke_transfer': {'rehab': 594, 'esd': 314, 'other': 1524},\n",
       " 'tia_transfer': {'rehab': 4, 'esd': 3, 'other': 326},\n",
       " 'complex_neuro_transfer': {'rehab': 73, 'esd': 39, 'other': 682},\n",
       " 'other_transfer': {'rehab': 40, 'esd': 77, 'other': 800},\n",
       " 'total_transfers': {'rehab': 711, 'esd': 433, 'other': 3332}}"
      ]
     },
     "execution_count": 19,
     "metadata": {},
     "output_type": "execute_result"
    }
   ],
   "source": [
    "result"
   ]
  },
  {
   "cell_type": "code",
   "execution_count": 20,
   "metadata": {},
   "outputs": [
    {
     "data": {
      "text/plain": [
       "{'n_total': 2768, 'delayed': np.int64(1691), 'non_delayed': np.int64(1077)}"
      ]
     },
     "execution_count": 20,
     "metadata": {},
     "output_type": "execute_result"
    }
   ],
   "source": [
    "# number of patients who are admitted to the stroke unit.\n",
    "# number of patients who are are waited experience a delay in the stroke unit.\n",
    "\n",
    "num_patients"
   ]
  },
  {
   "cell_type": "code",
   "execution_count": 21,
   "metadata": {},
   "outputs": [
    {
     "name": "stdout",
     "output_type": "stream",
     "text": [
      "Number of patients: {'n_total': 2768, 'delayed': np.int64(1691), 'non_delayed': np.int64(1077)}\n",
      "bed utilization: 0.8694794520547945\n",
      "delay probability: 0.6109104046242775\n",
      "delay probability of each patient type: {'complex_neuro': 0.6101010101010101, 'other': 0.6231884057971014, 'stroke': 0.6, 'tia': 0.6574074074074074}\n"
     ]
    }
   ],
   "source": [
    "# delay probability and bed utilization with warm up = default warm up\n",
    "print(f\"Number of patients: {num_patients}\")\n",
    "print(f'bed utilization: {bed_utilisation[\"overall\"]}')\n",
    "print(f'delay probability: {delay_p[\"overall\"]}')\n",
    "print(f'delay probability of each patient type: {delay_p[\"by_type\"]}')"
   ]
  },
  {
   "cell_type": "markdown",
   "metadata": {},
   "source": [
    "## 13. Test on patient type - Should only see TIA patients"
   ]
  },
  {
   "cell_type": "code",
   "execution_count": 22,
   "metadata": {},
   "outputs": [
    {
     "data": {
      "text/plain": [
       "{'n_stroke': 0,\n",
       " 'n_tia': 335,\n",
       " 'n_complex_neuro': 0,\n",
       " 'n_other': 0,\n",
       " 'n_patients': 335,\n",
       " 'stroke_transfer': {'rehab': 0, 'esd': 0, 'other': 0},\n",
       " 'tia_transfer': {'rehab': 4, 'esd': 3, 'other': 328},\n",
       " 'complex_neuro_transfer': {'rehab': 0, 'esd': 0, 'other': 0},\n",
       " 'other_transfer': {'rehab': 0, 'esd': 0, 'other': 0},\n",
       " 'total_transfers': {'rehab': 4, 'esd': 3, 'other': 328}}"
      ]
     },
     "execution_count": 22,
     "metadata": {},
     "output_type": "execute_result"
    }
   ],
   "source": [
    "M = 1_000_000\n",
    "auditor = Auditor()\n",
    "experiment = Experiment(\n",
    "    auditor=auditor, iat_stroke=M, iat_complex_neuro=M, iat_other=M\n",
    ")\n",
    "results = single_run(experiment)\n",
    "results"
   ]
  },
  {
   "cell_type": "markdown",
   "metadata": {},
   "source": [
    "## 14. Run multiple replications warmup=0"
   ]
  },
  {
   "cell_type": "code",
   "execution_count": 23,
   "metadata": {},
   "outputs": [],
   "source": [
    "# 5 replications(defualt N_replication) and warm up = 0\n",
    "TRACE = False\n",
    "auditor = Auditor()\n",
    "experiment = Experiment(auditor=auditor)\n",
    "results_df = multiple_replications(experiment)"
   ]
  },
  {
   "cell_type": "code",
   "execution_count": 24,
   "metadata": {},
   "outputs": [
    {
     "data": {
      "application/vnd.microsoft.datawrangler.viewer.v0+json": {
       "columns": [
        {
         "name": "Replication",
         "rawType": "object",
         "type": "string"
        },
        {
         "name": "Patients",
         "rawType": "int64",
         "type": "integer"
        },
        {
         "name": "Overall Delay Probability",
         "rawType": "float64",
         "type": "float"
        },
        {
         "name": "Bed Utilisation",
         "rawType": "float64",
         "type": "float"
        }
       ],
       "conversionMethod": "pd.DataFrame",
       "ref": "4e1ca6b5-8bc7-4518-8299-38d8ad52e1e0",
       "rows": [
        [
         "Rep1 of 5",
         "2824",
         "0.6101274787535411",
         "0.8687123287671233"
        ],
        [
         "Rep2 of 5",
         "2786",
         "0.6101938262742282",
         "0.8784657534246574"
        ],
        [
         "Rep3 of 5",
         "2830",
         "0.6653710247349823",
         "0.8880000000000001"
        ],
        [
         "Rep4 of 5",
         "2735",
         "0.4793418647166362",
         "0.8281095890410959"
        ],
        [
         "Rep5 of 5",
         "2817",
         "0.6254881079162229",
         "0.8782465753424659"
        ]
       ],
       "shape": {
        "columns": 3,
        "rows": 5
       }
      },
      "text/html": [
       "<div>\n",
       "<style scoped>\n",
       "    .dataframe tbody tr th:only-of-type {\n",
       "        vertical-align: middle;\n",
       "    }\n",
       "\n",
       "    .dataframe tbody tr th {\n",
       "        vertical-align: top;\n",
       "    }\n",
       "\n",
       "    .dataframe thead th {\n",
       "        text-align: right;\n",
       "    }\n",
       "</style>\n",
       "<table border=\"1\" class=\"dataframe\">\n",
       "  <thead>\n",
       "    <tr style=\"text-align: right;\">\n",
       "      <th></th>\n",
       "      <th>Patients</th>\n",
       "      <th>Overall Delay Probability</th>\n",
       "      <th>Bed Utilisation</th>\n",
       "    </tr>\n",
       "    <tr>\n",
       "      <th>Replication</th>\n",
       "      <th></th>\n",
       "      <th></th>\n",
       "      <th></th>\n",
       "    </tr>\n",
       "  </thead>\n",
       "  <tbody>\n",
       "    <tr>\n",
       "      <th>Rep1 of 5</th>\n",
       "      <td>2824</td>\n",
       "      <td>0.610127</td>\n",
       "      <td>0.868712</td>\n",
       "    </tr>\n",
       "    <tr>\n",
       "      <th>Rep2 of 5</th>\n",
       "      <td>2786</td>\n",
       "      <td>0.610194</td>\n",
       "      <td>0.878466</td>\n",
       "    </tr>\n",
       "    <tr>\n",
       "      <th>Rep3 of 5</th>\n",
       "      <td>2830</td>\n",
       "      <td>0.665371</td>\n",
       "      <td>0.888000</td>\n",
       "    </tr>\n",
       "    <tr>\n",
       "      <th>Rep4 of 5</th>\n",
       "      <td>2735</td>\n",
       "      <td>0.479342</td>\n",
       "      <td>0.828110</td>\n",
       "    </tr>\n",
       "    <tr>\n",
       "      <th>Rep5 of 5</th>\n",
       "      <td>2817</td>\n",
       "      <td>0.625488</td>\n",
       "      <td>0.878247</td>\n",
       "    </tr>\n",
       "  </tbody>\n",
       "</table>\n",
       "</div>"
      ],
      "text/plain": [
       "             Patients  Overall Delay Probability  Bed Utilisation\n",
       "Replication                                                      \n",
       "Rep1 of 5        2824                   0.610127         0.868712\n",
       "Rep2 of 5        2786                   0.610194         0.878466\n",
       "Rep3 of 5        2830                   0.665371         0.888000\n",
       "Rep4 of 5        2735                   0.479342         0.828110\n",
       "Rep5 of 5        2817                   0.625488         0.878247"
      ]
     },
     "execution_count": 24,
     "metadata": {},
     "output_type": "execute_result"
    }
   ],
   "source": [
    "results_df"
   ]
  },
  {
   "cell_type": "code",
   "execution_count": 25,
   "metadata": {},
   "outputs": [
    {
     "data": {
      "text/plain": [
       "Patients                     2798.400000\n",
       "Overall Delay Probability       0.598104\n",
       "Bed Utilisation                 0.868307\n",
       "dtype: float64"
      ]
     },
     "execution_count": 25,
     "metadata": {},
     "output_type": "execute_result"
    }
   ],
   "source": [
    "results_df.mean()"
   ]
  },
  {
   "cell_type": "markdown",
   "metadata": {},
   "source": [
    "## 15. Plotting warm-up data to inspect best cutoff"
   ]
  },
  {
   "cell_type": "code",
   "execution_count": 26,
   "metadata": {},
   "outputs": [],
   "source": [
    "# for warmup analysis we will run the model fo 10 years and recond the\n",
    "# data in a dataframe  with mean of 5 replication and\n",
    "run_length = 365 * 10\n",
    "n_reps = 5\n",
    "interval = 30\n",
    "warmup_df = warmup_analysis(run_length=run_length, reps=5, interval=interval)"
   ]
  },
  {
   "cell_type": "code",
   "execution_count": 27,
   "metadata": {},
   "outputs": [
    {
     "data": {
      "application/vnd.microsoft.datawrangler.viewer.v0+json": {
       "columns": [
        {
         "name": "index",
         "rawType": "int64",
         "type": "integer"
        },
        {
         "name": "Run Length",
         "rawType": "int64",
         "type": "integer"
        },
        {
         "name": "reps",
         "rawType": "int64",
         "type": "integer"
        },
        {
         "name": "Delay Probability",
         "rawType": "float64",
         "type": "float"
        },
        {
         "name": "Bed Utilisation",
         "rawType": "float64",
         "type": "float"
        }
       ],
       "conversionMethod": "pd.DataFrame",
       "ref": "9e1c8bda-7c1e-4902-b5eb-21a8a6afd9f7",
       "rows": [
        [
         "0",
         "1",
         "5",
         "0.0",
         "0.0"
        ],
        [
         "1",
         "31",
         "5",
         "0.11936027813993914",
         "0.607741935483871"
        ],
        [
         "2",
         "61",
         "5",
         "0.24115435369037236",
         "0.7065573770491803"
        ],
        [
         "3",
         "91",
         "5",
         "0.3059783801001853",
         "0.7481318681318683"
        ],
        [
         "4",
         "121",
         "5",
         "0.4318499515142742",
         "0.7907438016528926"
        ],
        [
         "5",
         "151",
         "5",
         "0.4427278437775204",
         "0.7968211920529802"
        ],
        [
         "6",
         "181",
         "5",
         "0.47343368733406493",
         "0.8170165745856354"
        ],
        [
         "7",
         "211",
         "5",
         "0.4983617141702689",
         "0.8257819905213271"
        ],
        [
         "8",
         "241",
         "5",
         "0.4914220012533722",
         "0.8237344398340248"
        ],
        [
         "9",
         "271",
         "5",
         "0.515773254493604",
         "0.8349077490774908"
        ],
        [
         "10",
         "301",
         "5",
         "0.5287961247164387",
         "0.8406644518272424"
        ],
        [
         "11",
         "331",
         "5",
         "0.5379183440313065",
         "0.8467069486404833"
        ],
        [
         "12",
         "361",
         "5",
         "0.539730476534362",
         "0.8482548476454292"
        ],
        [
         "13",
         "391",
         "5",
         "0.5425939947327305",
         "0.8470588235294116"
        ],
        [
         "14",
         "421",
         "5",
         "0.5465903179051704",
         "0.8480285035629453"
        ],
        [
         "15",
         "451",
         "5",
         "0.546061811010971",
         "0.8502439024390244"
        ],
        [
         "16",
         "481",
         "5",
         "0.5453680461993586",
         "0.8477754677754676"
        ],
        [
         "17",
         "511",
         "5",
         "0.5439150600103193",
         "0.847788649706458"
        ],
        [
         "18",
         "541",
         "5",
         "0.5424000243912529",
         "0.8463216266173752"
        ],
        [
         "19",
         "571",
         "5",
         "0.5595708425336859",
         "0.8521541155866901"
        ],
        [
         "20",
         "601",
         "5",
         "0.5653403228554293",
         "0.8565058236272879"
        ],
        [
         "21",
         "631",
         "5",
         "0.5715178906708998",
         "0.8581299524564183"
        ],
        [
         "22",
         "661",
         "5",
         "0.5852003188635091",
         "0.8626626323751891"
        ],
        [
         "23",
         "691",
         "5",
         "0.5938751603533394",
         "0.864862518089725"
        ],
        [
         "24",
         "721",
         "5",
         "0.6035353626453879",
         "0.8682108183079057"
        ],
        [
         "25",
         "751",
         "5",
         "0.6139633449945949",
         "0.8718242343541943"
        ],
        [
         "26",
         "781",
         "5",
         "0.6144651413225644",
         "0.869628681177977"
        ],
        [
         "27",
         "811",
         "5",
         "0.6141927263779741",
         "0.8699383477188656"
        ],
        [
         "28",
         "841",
         "5",
         "0.6143703766032146",
         "0.8700356718192627"
        ],
        [
         "29",
         "871",
         "5",
         "0.6181831209181482",
         "0.8704936854190585"
        ],
        [
         "30",
         "901",
         "5",
         "0.6217067198621657",
         "0.8724972253052166"
        ],
        [
         "31",
         "931",
         "5",
         "0.6319094393435158",
         "0.8761117078410312"
        ],
        [
         "32",
         "961",
         "5",
         "0.6330598032049852",
         "0.8772528616024975"
        ],
        [
         "33",
         "991",
         "5",
         "0.6292475280407298",
         "0.8762260343087789"
        ],
        [
         "34",
         "1021",
         "5",
         "0.6319353062129469",
         "0.8775122428991186"
        ],
        [
         "35",
         "1051",
         "5",
         "0.6366755871942376",
         "0.8791817316841104"
        ],
        [
         "36",
         "1081",
         "5",
         "0.6302006128091207",
         "0.8757076780758556"
        ],
        [
         "37",
         "1111",
         "5",
         "0.6287379568014302",
         "0.8759855985598559"
        ],
        [
         "38",
         "1141",
         "5",
         "0.6272429641078195",
         "0.8768624014022788"
        ],
        [
         "39",
         "1171",
         "5",
         "0.624757734484404",
         "0.876276686592656"
        ],
        [
         "40",
         "1201",
         "5",
         "0.6254897051928385",
         "0.8774354704412989"
        ],
        [
         "41",
         "1231",
         "5",
         "0.6285717614242136",
         "0.8787489845653941"
        ],
        [
         "42",
         "1261",
         "5",
         "0.6349560219847724",
         "0.8811578112609041"
        ],
        [
         "43",
         "1291",
         "5",
         "0.6376793043322754",
         "0.8825871417505808"
        ],
        [
         "44",
         "1321",
         "5",
         "0.6368936586293322",
         "0.883542770628312"
        ],
        [
         "45",
         "1351",
         "5",
         "0.6340465308960697",
         "0.8807994078460399"
        ],
        [
         "46",
         "1381",
         "5",
         "0.6290913571016683",
         "0.8782476466328747"
        ],
        [
         "47",
         "1411",
         "5",
         "0.6203325934408974",
         "0.8762863217576188"
        ],
        [
         "48",
         "1441",
         "5",
         "0.6149008915447663",
         "0.8747952810548231"
        ],
        [
         "49",
         "1471",
         "5",
         "0.6146379606163455",
         "0.8752821210061181"
        ]
       ],
       "shape": {
        "columns": 4,
        "rows": 122
       }
      },
      "text/html": [
       "<div>\n",
       "<style scoped>\n",
       "    .dataframe tbody tr th:only-of-type {\n",
       "        vertical-align: middle;\n",
       "    }\n",
       "\n",
       "    .dataframe tbody tr th {\n",
       "        vertical-align: top;\n",
       "    }\n",
       "\n",
       "    .dataframe thead th {\n",
       "        text-align: right;\n",
       "    }\n",
       "</style>\n",
       "<table border=\"1\" class=\"dataframe\">\n",
       "  <thead>\n",
       "    <tr style=\"text-align: right;\">\n",
       "      <th></th>\n",
       "      <th>Run Length</th>\n",
       "      <th>reps</th>\n",
       "      <th>Delay Probability</th>\n",
       "      <th>Bed Utilisation</th>\n",
       "    </tr>\n",
       "  </thead>\n",
       "  <tbody>\n",
       "    <tr>\n",
       "      <th>0</th>\n",
       "      <td>1</td>\n",
       "      <td>5</td>\n",
       "      <td>0.000000</td>\n",
       "      <td>0.000000</td>\n",
       "    </tr>\n",
       "    <tr>\n",
       "      <th>1</th>\n",
       "      <td>31</td>\n",
       "      <td>5</td>\n",
       "      <td>0.119360</td>\n",
       "      <td>0.607742</td>\n",
       "    </tr>\n",
       "    <tr>\n",
       "      <th>2</th>\n",
       "      <td>61</td>\n",
       "      <td>5</td>\n",
       "      <td>0.241154</td>\n",
       "      <td>0.706557</td>\n",
       "    </tr>\n",
       "    <tr>\n",
       "      <th>3</th>\n",
       "      <td>91</td>\n",
       "      <td>5</td>\n",
       "      <td>0.305978</td>\n",
       "      <td>0.748132</td>\n",
       "    </tr>\n",
       "    <tr>\n",
       "      <th>4</th>\n",
       "      <td>121</td>\n",
       "      <td>5</td>\n",
       "      <td>0.431850</td>\n",
       "      <td>0.790744</td>\n",
       "    </tr>\n",
       "    <tr>\n",
       "      <th>...</th>\n",
       "      <td>...</td>\n",
       "      <td>...</td>\n",
       "      <td>...</td>\n",
       "      <td>...</td>\n",
       "    </tr>\n",
       "    <tr>\n",
       "      <th>117</th>\n",
       "      <td>3511</td>\n",
       "      <td>5</td>\n",
       "      <td>0.582913</td>\n",
       "      <td>0.866072</td>\n",
       "    </tr>\n",
       "    <tr>\n",
       "      <th>118</th>\n",
       "      <td>3541</td>\n",
       "      <td>5</td>\n",
       "      <td>0.584577</td>\n",
       "      <td>0.866461</td>\n",
       "    </tr>\n",
       "    <tr>\n",
       "      <th>119</th>\n",
       "      <td>3571</td>\n",
       "      <td>5</td>\n",
       "      <td>0.584697</td>\n",
       "      <td>0.866480</td>\n",
       "    </tr>\n",
       "    <tr>\n",
       "      <th>120</th>\n",
       "      <td>3601</td>\n",
       "      <td>5</td>\n",
       "      <td>0.586124</td>\n",
       "      <td>0.866743</td>\n",
       "    </tr>\n",
       "    <tr>\n",
       "      <th>121</th>\n",
       "      <td>3631</td>\n",
       "      <td>5</td>\n",
       "      <td>0.587920</td>\n",
       "      <td>0.867370</td>\n",
       "    </tr>\n",
       "  </tbody>\n",
       "</table>\n",
       "<p>122 rows × 4 columns</p>\n",
       "</div>"
      ],
      "text/plain": [
       "     Run Length  reps  Delay Probability  Bed Utilisation\n",
       "0             1     5           0.000000         0.000000\n",
       "1            31     5           0.119360         0.607742\n",
       "2            61     5           0.241154         0.706557\n",
       "3            91     5           0.305978         0.748132\n",
       "4           121     5           0.431850         0.790744\n",
       "..          ...   ...                ...              ...\n",
       "117        3511     5           0.582913         0.866072\n",
       "118        3541     5           0.584577         0.866461\n",
       "119        3571     5           0.584697         0.866480\n",
       "120        3601     5           0.586124         0.866743\n",
       "121        3631     5           0.587920         0.867370\n",
       "\n",
       "[122 rows x 4 columns]"
      ]
     },
     "execution_count": 27,
     "metadata": {},
     "output_type": "execute_result"
    }
   ],
   "source": [
    "warmup_df"
   ]
  },
  {
   "cell_type": "code",
   "execution_count": 28,
   "metadata": {},
   "outputs": [
    {
     "data": {
      "text/plain": [
       "<matplotlib.legend.Legend at 0x14e602d10>"
      ]
     },
     "execution_count": 28,
     "metadata": {},
     "output_type": "execute_result"
    },
    {
     "data": {
      "image/png": "[encoded data removed]",
      "text/plain": [
       "<Figure size 1000x1000 with 2 Axes>"
      ]
     },
     "metadata": {},
     "output_type": "display_data"
    }
   ],
   "source": [
    "# plot warm up period\n",
    "delay_p = warmup_df[\"Delay Probability\"]\n",
    "bed_utilisation = warmup_df[\"Bed Utilisation\"]\n",
    "time = warmup_df[\"Run Length\"]\n",
    "fix, ax = plt.subplots(2, 1, figsize=(10, 10))\n",
    "ax[0].plot(time, delay_p, label=\"Delay Probability\")\n",
    "ax[0].set_xlabel(\"Time(days)\")\n",
    "ax[0].set_ylabel(\"Delay Probability\")\n",
    "ax[0].set_title(\"Delay Probability Over Time\")\n",
    "ax[1].plot(time, bed_utilisation, label=\"Bed Utilisation\")\n",
    "ax[1].set_xlabel(\"Time(days)\")\n",
    "ax[1].set_ylabel(\"Bed Utilisation\")\n",
    "ax[1].set_title(\"Bed Utilisation Over Time\")\n",
    "ax[1].legend()"
   ]
  },
  {
   "cell_type": "code",
   "execution_count": 29,
   "metadata": {},
   "outputs": [
    {
     "data": {
      "image/png": "[encoded data removed]",
      "text/plain": [
       "<Figure size 1200x500 with 1 Axes>"
      ]
     },
     "metadata": {},
     "output_type": "display_data"
    }
   ],
   "source": [
    "# plot warm up period\n",
    "delay_p = warmup_df[\"Delay Probability\"]\n",
    "bed_utilisation = warmup_df[\"Bed Utilisation\"]\n",
    "time = warmup_df[\"Run Length\"]\n",
    "\n",
    "plt.figure(figsize=(12, 5))\n",
    "plt.plot(time, delay_p, label=\"Delay Probability\")\n",
    "plt.plot(time, bed_utilisation, label=\"Bed Utilization\")\n",
    "plt.axvline(\n",
    "    WARM_UP_PERIOD, color=\"red\", linestyle=\"--\", label=\"Suggested Warm-up\"\n",
    ")\n",
    "plt.xlabel(\"Simulation Time (days)\")\n",
    "plt.ylabel(\"Metric Value\")\n",
    "plt.title(\"Warm-up Analysis of Acute Stroke Unit\")\n",
    "plt.legend()\n",
    "plt.grid(True)\n",
    "plt.tight_layout()\n",
    "plt.show()"
   ]
  },
  {
   "cell_type": "markdown",
   "metadata": {},
   "source": [
    "## 16.Selecting the number of replications to run."
   ]
  },
  {
   "cell_type": "code",
   "execution_count": 30,
   "metadata": {},
   "outputs": [],
   "source": [
    "def confidence_interval_method(\n",
    "    replications,\n",
    "    alpha=0.05,\n",
    "    desired_precision=0.05,\n",
    "    min_rep=5,\n",
    "    decimal_place=2,\n",
    "):\n",
    "    \"\"\"\n",
    "    The confidence interval method for selecting the number of replications\n",
    "    to run in a simulation.\n",
    "\n",
    "    Finds the smallest number of replications where the width of the confidence\n",
    "    interval is less than the desired_precision.\n",
    "\n",
    "    Returns both the number of replications and the full results dataframe.\n",
    "\n",
    "    Parameters:\n",
    "    ----------\n",
    "    replications: arraylike\n",
    "        Array (e.g. np.ndarray or list) of replications of a performance metric\n",
    "\n",
    "    alpha: float, optional (default=0.05)\n",
    "        procedure constructs a 100(1-alpha) confidence interval for the\n",
    "        cumulative mean.\n",
    "\n",
    "    desired_precision: float, optional (default=0.05)\n",
    "        Desired mean deviation from confidence interval.\n",
    "\n",
    "    min_rep: int, optional (default=5)\n",
    "        set to a integer > 0 and ignore all of the replications prior to it\n",
    "        when selecting the number of replications to run to achieve the desired\n",
    "        precision.  Useful when the number of replications returned does not\n",
    "        provide a stable precision below target.\n",
    "\n",
    "    decimal_places: int, optional (default=2)\n",
    "        sets the number of decimal places of the returned dataframe containing\n",
    "        the results\n",
    "\n",
    "    Returns:\n",
    "    --------\n",
    "        tuple: int, pd.DataFrame\n",
    "\n",
    "    \"\"\"\n",
    "    n = len(replications)\n",
    "    cumulative_mean = [replications[0]]\n",
    "    running_var = [0.0]\n",
    "    for i in range(1, n):\n",
    "        cumulative_mean.append(\n",
    "            cumulative_mean[i - 1]\n",
    "            + (replications[i] - cumulative_mean[i - 1]) / (i + 1)\n",
    "        )\n",
    "\n",
    "        # running biased variance\n",
    "        running_var.append(\n",
    "            running_var[i - 1]\n",
    "            + (replications[i] - cumulative_mean[i - 1])\n",
    "            * (replications[i] - cumulative_mean[i])\n",
    "        )\n",
    "\n",
    "    # unbiased std dev = running_var / (n - 1)\n",
    "    with np.errstate(divide=\"ignore\", invalid=\"ignore\"):\n",
    "        running_std = np.sqrt(running_var / np.arange(n))\n",
    "\n",
    "    # half width of interval\n",
    "    dof = len(replications) - 1\n",
    "    t_value = t.ppf(1 - (alpha / 2), dof)\n",
    "    with np.errstate(divide=\"ignore\", invalid=\"ignore\"):\n",
    "        std_error = running_std / np.sqrt(np.arange(1, n + 1))\n",
    "\n",
    "    half_width = t_value * std_error\n",
    "\n",
    "    # upper and lower confidence interval\n",
    "    upper = cumulative_mean + half_width\n",
    "    lower = cumulative_mean - half_width\n",
    "\n",
    "    # Mean deviation\n",
    "    with np.errstate(divide=\"ignore\", invalid=\"ignore\"):\n",
    "        deviation = (half_width / cumulative_mean) * 100\n",
    "\n",
    "    # commbine results into a single dataframe\n",
    "    results = pd.DataFrame(\n",
    "        [replications, cumulative_mean, running_std, lower, upper, deviation]\n",
    "    ).T\n",
    "    results.columns = [\n",
    "        \"Mean\",\n",
    "        \"Cumulative Mean\",\n",
    "        \"Standard Deviation\",\n",
    "        \"Lower Interval\",\n",
    "        \"Upper Interval\",\n",
    "        \"% deviation\",\n",
    "    ]\n",
    "    results.index = np.arange(1, n + 1)\n",
    "    results.index.name = \"replications\"\n",
    "\n",
    "    # get the smallest no. of reps\n",
    "    # where deviation is less than precision target\n",
    "    try:\n",
    "        n_reps = (\n",
    "            results.iloc[min_rep:]\n",
    "            .loc[results[\"% deviation\"] <= desired_precision * 100]\n",
    "            .iloc[0]\n",
    "            .name\n",
    "        )\n",
    "    except Exception as e:\n",
    "        # no replications with desired precision\n",
    "        message = \"WARNING: the replications do not reach desired precision\"\n",
    "        if e:\n",
    "            print(f\"An n error occurred: {e}\")\n",
    "        else:\n",
    "            print(message)\n",
    "            n_reps = -1\n",
    "\n",
    "    return n_reps, results.round(2)"
   ]
  },
  {
   "cell_type": "code",
   "execution_count": 31,
   "metadata": {},
   "outputs": [],
   "source": [
    "# Firts let us run a a 150 replication of one scenario\n",
    "auditor = Auditor()\n",
    "experiment_default = Experiment(auditor=auditor)\n",
    "results_default = multiple_replications(\n",
    "    scenario=experiment_default, warmup=WARM_UP_PERIOD, n_reps=150\n",
    ")"
   ]
  },
  {
   "cell_type": "code",
   "execution_count": 32,
   "metadata": {},
   "outputs": [
    {
     "data": {
      "application/vnd.microsoft.datawrangler.viewer.v0+json": {
       "columns": [
        {
         "name": "Replication",
         "rawType": "object",
         "type": "string"
        },
        {
         "name": "Patients",
         "rawType": "int64",
         "type": "integer"
        },
        {
         "name": "Overall Delay Probability",
         "rawType": "float64",
         "type": "float"
        },
        {
         "name": "Bed Utilisation",
         "rawType": "float64",
         "type": "float"
        }
       ],
       "conversionMethod": "pd.DataFrame",
       "ref": "4baa723d-5559-4746-b655-c090f9ab43ec",
       "rows": [
        [
         "Rep1 of 150",
         "1106",
         "0.5741410488245932",
         "0.8536986301369862"
        ],
        [
         "Rep2 of 150",
         "1117",
         "0.495076096687556",
         "0.843013698630137"
        ],
        [
         "Rep3 of 150",
         "1162",
         "0.7564543889845095",
         "0.9265753424657533"
        ],
        [
         "Rep4 of 150",
         "1037",
         "0.3037608486017358",
         "0.7754794520547945"
        ],
        [
         "Rep5 of 150",
         "1165",
         "0.6163090128755365",
         "0.8934246575342466"
        ]
       ],
       "shape": {
        "columns": 3,
        "rows": 5
       }
      },
      "text/html": [
       "<div>\n",
       "<style scoped>\n",
       "    .dataframe tbody tr th:only-of-type {\n",
       "        vertical-align: middle;\n",
       "    }\n",
       "\n",
       "    .dataframe tbody tr th {\n",
       "        vertical-align: top;\n",
       "    }\n",
       "\n",
       "    .dataframe thead th {\n",
       "        text-align: right;\n",
       "    }\n",
       "</style>\n",
       "<table border=\"1\" class=\"dataframe\">\n",
       "  <thead>\n",
       "    <tr style=\"text-align: right;\">\n",
       "      <th></th>\n",
       "      <th>Patients</th>\n",
       "      <th>Overall Delay Probability</th>\n",
       "      <th>Bed Utilisation</th>\n",
       "    </tr>\n",
       "    <tr>\n",
       "      <th>Replication</th>\n",
       "      <th></th>\n",
       "      <th></th>\n",
       "      <th></th>\n",
       "    </tr>\n",
       "  </thead>\n",
       "  <tbody>\n",
       "    <tr>\n",
       "      <th>Rep1 of 150</th>\n",
       "      <td>1106</td>\n",
       "      <td>0.574141</td>\n",
       "      <td>0.853699</td>\n",
       "    </tr>\n",
       "    <tr>\n",
       "      <th>Rep2 of 150</th>\n",
       "      <td>1117</td>\n",
       "      <td>0.495076</td>\n",
       "      <td>0.843014</td>\n",
       "    </tr>\n",
       "    <tr>\n",
       "      <th>Rep3 of 150</th>\n",
       "      <td>1162</td>\n",
       "      <td>0.756454</td>\n",
       "      <td>0.926575</td>\n",
       "    </tr>\n",
       "    <tr>\n",
       "      <th>Rep4 of 150</th>\n",
       "      <td>1037</td>\n",
       "      <td>0.303761</td>\n",
       "      <td>0.775479</td>\n",
       "    </tr>\n",
       "    <tr>\n",
       "      <th>Rep5 of 150</th>\n",
       "      <td>1165</td>\n",
       "      <td>0.616309</td>\n",
       "      <td>0.893425</td>\n",
       "    </tr>\n",
       "  </tbody>\n",
       "</table>\n",
       "</div>"
      ],
      "text/plain": [
       "             Patients  Overall Delay Probability  Bed Utilisation\n",
       "Replication                                                      \n",
       "Rep1 of 150      1106                   0.574141         0.853699\n",
       "Rep2 of 150      1117                   0.495076         0.843014\n",
       "Rep3 of 150      1162                   0.756454         0.926575\n",
       "Rep4 of 150      1037                   0.303761         0.775479\n",
       "Rep5 of 150      1165                   0.616309         0.893425"
      ]
     },
     "execution_count": 32,
     "metadata": {},
     "output_type": "execute_result"
    }
   ],
   "source": [
    "results_default.head()"
   ]
  },
  {
   "cell_type": "code",
   "execution_count": 33,
   "metadata": {},
   "outputs": [
    {
     "name": "stdout",
     "output_type": "stream",
     "text": [
      "\n",
      "minimum number of reps for 5% precision: 50\n",
      "\n"
     ]
    },
    {
     "data": {
      "application/vnd.microsoft.datawrangler.viewer.v0+json": {
       "columns": [
        {
         "name": "replications",
         "rawType": "int64",
         "type": "integer"
        },
        {
         "name": "Mean",
         "rawType": "float64",
         "type": "float"
        },
        {
         "name": "Cumulative Mean",
         "rawType": "float64",
         "type": "float"
        },
        {
         "name": "Standard Deviation",
         "rawType": "float64",
         "type": "float"
        },
        {
         "name": "Lower Interval",
         "rawType": "float64",
         "type": "float"
        },
        {
         "name": "Upper Interval",
         "rawType": "float64",
         "type": "float"
        },
        {
         "name": "% deviation",
         "rawType": "float64",
         "type": "float"
        }
       ],
       "conversionMethod": "pd.DataFrame",
       "ref": "ace0e4b6-e097-48e5-9d6c-e40421a321b1",
       "rows": [
        [
         "1",
         "0.57",
         "0.57",
         null,
         null,
         null,
         null
        ],
        [
         "2",
         "0.5",
         "0.53",
         "0.06",
         "0.46",
         "0.61",
         "14.61"
        ],
        [
         "3",
         "0.76",
         "0.61",
         "0.13",
         "0.46",
         "0.76",
         "25.13"
        ],
        [
         "4",
         "0.3",
         "0.53",
         "0.19",
         "0.35",
         "0.72",
         "34.82"
        ],
        [
         "5",
         "0.62",
         "0.55",
         "0.17",
         "0.4",
         "0.7",
         "26.84"
        ]
       ],
       "shape": {
        "columns": 6,
        "rows": 5
       }
      },
      "text/html": [
       "<div>\n",
       "<style scoped>\n",
       "    .dataframe tbody tr th:only-of-type {\n",
       "        vertical-align: middle;\n",
       "    }\n",
       "\n",
       "    .dataframe tbody tr th {\n",
       "        vertical-align: top;\n",
       "    }\n",
       "\n",
       "    .dataframe thead th {\n",
       "        text-align: right;\n",
       "    }\n",
       "</style>\n",
       "<table border=\"1\" class=\"dataframe\">\n",
       "  <thead>\n",
       "    <tr style=\"text-align: right;\">\n",
       "      <th></th>\n",
       "      <th>Mean</th>\n",
       "      <th>Cumulative Mean</th>\n",
       "      <th>Standard Deviation</th>\n",
       "      <th>Lower Interval</th>\n",
       "      <th>Upper Interval</th>\n",
       "      <th>% deviation</th>\n",
       "    </tr>\n",
       "    <tr>\n",
       "      <th>replications</th>\n",
       "      <th></th>\n",
       "      <th></th>\n",
       "      <th></th>\n",
       "      <th></th>\n",
       "      <th></th>\n",
       "      <th></th>\n",
       "    </tr>\n",
       "  </thead>\n",
       "  <tbody>\n",
       "    <tr>\n",
       "      <th>1</th>\n",
       "      <td>0.57</td>\n",
       "      <td>0.57</td>\n",
       "      <td>NaN</td>\n",
       "      <td>NaN</td>\n",
       "      <td>NaN</td>\n",
       "      <td>NaN</td>\n",
       "    </tr>\n",
       "    <tr>\n",
       "      <th>2</th>\n",
       "      <td>0.50</td>\n",
       "      <td>0.53</td>\n",
       "      <td>0.06</td>\n",
       "      <td>0.46</td>\n",
       "      <td>0.61</td>\n",
       "      <td>14.61</td>\n",
       "    </tr>\n",
       "    <tr>\n",
       "      <th>3</th>\n",
       "      <td>0.76</td>\n",
       "      <td>0.61</td>\n",
       "      <td>0.13</td>\n",
       "      <td>0.46</td>\n",
       "      <td>0.76</td>\n",
       "      <td>25.13</td>\n",
       "    </tr>\n",
       "    <tr>\n",
       "      <th>4</th>\n",
       "      <td>0.30</td>\n",
       "      <td>0.53</td>\n",
       "      <td>0.19</td>\n",
       "      <td>0.35</td>\n",
       "      <td>0.72</td>\n",
       "      <td>34.82</td>\n",
       "    </tr>\n",
       "    <tr>\n",
       "      <th>5</th>\n",
       "      <td>0.62</td>\n",
       "      <td>0.55</td>\n",
       "      <td>0.17</td>\n",
       "      <td>0.40</td>\n",
       "      <td>0.70</td>\n",
       "      <td>26.84</td>\n",
       "    </tr>\n",
       "  </tbody>\n",
       "</table>\n",
       "</div>"
      ],
      "text/plain": [
       "              Mean  Cumulative Mean  Standard Deviation  Lower Interval  \\\n",
       "replications                                                              \n",
       "1             0.57             0.57                 NaN             NaN   \n",
       "2             0.50             0.53                0.06            0.46   \n",
       "3             0.76             0.61                0.13            0.46   \n",
       "4             0.30             0.53                0.19            0.35   \n",
       "5             0.62             0.55                0.17            0.40   \n",
       "\n",
       "              Upper Interval  % deviation  \n",
       "replications                               \n",
       "1                        NaN          NaN  \n",
       "2                       0.61        14.61  \n",
       "3                       0.76        25.13  \n",
       "4                       0.72        34.82  \n",
       "5                       0.70        26.84  "
      ]
     },
     "execution_count": 33,
     "metadata": {},
     "output_type": "execute_result"
    }
   ],
   "source": [
    "# run the method on the delay probability replications\n",
    "n_reps, conf_ints = confidence_interval_method(\n",
    "    results_default[\"Overall Delay Probability\"].to_numpy(),\n",
    "    desired_precision=0.05,\n",
    ")\n",
    "\n",
    "# print out the min number of replications to achieve precision\n",
    "print(f\"\\nminimum number of reps for 5% precision: {n_reps}\\n\")\n",
    "\n",
    "# peek at table of results\n",
    "conf_ints.head()"
   ]
  },
  {
   "cell_type": "code",
   "execution_count": 34,
   "metadata": {},
   "outputs": [
    {
     "name": "stdout",
     "output_type": "stream",
     "text": [
      "\n",
      "minimum number of reps for 5% precision: 7\n",
      "\n"
     ]
    },
    {
     "data": {
      "application/vnd.microsoft.datawrangler.viewer.v0+json": {
       "columns": [
        {
         "name": "replications",
         "rawType": "int64",
         "type": "integer"
        },
        {
         "name": "Mean",
         "rawType": "float64",
         "type": "float"
        },
        {
         "name": "Cumulative Mean",
         "rawType": "float64",
         "type": "float"
        },
        {
         "name": "Standard Deviation",
         "rawType": "float64",
         "type": "float"
        },
        {
         "name": "Lower Interval",
         "rawType": "float64",
         "type": "float"
        },
        {
         "name": "Upper Interval",
         "rawType": "float64",
         "type": "float"
        },
        {
         "name": "% deviation",
         "rawType": "float64",
         "type": "float"
        }
       ],
       "conversionMethod": "pd.DataFrame",
       "ref": "e3a6689c-0304-4390-ad27-f731657fed91",
       "rows": [
        [
         "1",
         "0.85",
         "0.85",
         null,
         null,
         null,
         null
        ],
        [
         "2",
         "0.84",
         "0.85",
         "0.01",
         "0.84",
         "0.86",
         "1.24"
        ],
        [
         "3",
         "0.93",
         "0.87",
         "0.05",
         "0.82",
         "0.93",
         "5.93"
        ],
        [
         "4",
         "0.78",
         "0.85",
         "0.06",
         "0.79",
         "0.91",
         "7.19"
        ],
        [
         "5",
         "0.89",
         "0.86",
         "0.06",
         "0.81",
         "0.91",
         "5.87"
        ]
       ],
       "shape": {
        "columns": 6,
        "rows": 5
       }
      },
      "text/html": [
       "<div>\n",
       "<style scoped>\n",
       "    .dataframe tbody tr th:only-of-type {\n",
       "        vertical-align: middle;\n",
       "    }\n",
       "\n",
       "    .dataframe tbody tr th {\n",
       "        vertical-align: top;\n",
       "    }\n",
       "\n",
       "    .dataframe thead th {\n",
       "        text-align: right;\n",
       "    }\n",
       "</style>\n",
       "<table border=\"1\" class=\"dataframe\">\n",
       "  <thead>\n",
       "    <tr style=\"text-align: right;\">\n",
       "      <th></th>\n",
       "      <th>Mean</th>\n",
       "      <th>Cumulative Mean</th>\n",
       "      <th>Standard Deviation</th>\n",
       "      <th>Lower Interval</th>\n",
       "      <th>Upper Interval</th>\n",
       "      <th>% deviation</th>\n",
       "    </tr>\n",
       "    <tr>\n",
       "      <th>replications</th>\n",
       "      <th></th>\n",
       "      <th></th>\n",
       "      <th></th>\n",
       "      <th></th>\n",
       "      <th></th>\n",
       "      <th></th>\n",
       "    </tr>\n",
       "  </thead>\n",
       "  <tbody>\n",
       "    <tr>\n",
       "      <th>1</th>\n",
       "      <td>0.85</td>\n",
       "      <td>0.85</td>\n",
       "      <td>NaN</td>\n",
       "      <td>NaN</td>\n",
       "      <td>NaN</td>\n",
       "      <td>NaN</td>\n",
       "    </tr>\n",
       "    <tr>\n",
       "      <th>2</th>\n",
       "      <td>0.84</td>\n",
       "      <td>0.85</td>\n",
       "      <td>0.01</td>\n",
       "      <td>0.84</td>\n",
       "      <td>0.86</td>\n",
       "      <td>1.24</td>\n",
       "    </tr>\n",
       "    <tr>\n",
       "      <th>3</th>\n",
       "      <td>0.93</td>\n",
       "      <td>0.87</td>\n",
       "      <td>0.05</td>\n",
       "      <td>0.82</td>\n",
       "      <td>0.93</td>\n",
       "      <td>5.93</td>\n",
       "    </tr>\n",
       "    <tr>\n",
       "      <th>4</th>\n",
       "      <td>0.78</td>\n",
       "      <td>0.85</td>\n",
       "      <td>0.06</td>\n",
       "      <td>0.79</td>\n",
       "      <td>0.91</td>\n",
       "      <td>7.19</td>\n",
       "    </tr>\n",
       "    <tr>\n",
       "      <th>5</th>\n",
       "      <td>0.89</td>\n",
       "      <td>0.86</td>\n",
       "      <td>0.06</td>\n",
       "      <td>0.81</td>\n",
       "      <td>0.91</td>\n",
       "      <td>5.87</td>\n",
       "    </tr>\n",
       "  </tbody>\n",
       "</table>\n",
       "</div>"
      ],
      "text/plain": [
       "              Mean  Cumulative Mean  Standard Deviation  Lower Interval  \\\n",
       "replications                                                              \n",
       "1             0.85             0.85                 NaN             NaN   \n",
       "2             0.84             0.85                0.01            0.84   \n",
       "3             0.93             0.87                0.05            0.82   \n",
       "4             0.78             0.85                0.06            0.79   \n",
       "5             0.89             0.86                0.06            0.81   \n",
       "\n",
       "              Upper Interval  % deviation  \n",
       "replications                               \n",
       "1                        NaN          NaN  \n",
       "2                       0.86         1.24  \n",
       "3                       0.93         5.93  \n",
       "4                       0.91         7.19  \n",
       "5                       0.91         5.87  "
      ]
     },
     "execution_count": 34,
     "metadata": {},
     "output_type": "execute_result"
    }
   ],
   "source": [
    "# run the method on the delay probability replications\n",
    "n_reps, conf_ints = confidence_interval_method(\n",
    "    results_default[\"Bed Utilisation\"].to_numpy(), desired_precision=0.05\n",
    ")\n",
    "\n",
    "# print out the min number of replications to achieve precision\n",
    "print(f\"\\nminimum number of reps for 5% precision: {n_reps}\\n\")\n",
    "\n",
    "# peek at table of results\n",
    "conf_ints.head()"
   ]
  },
  {
   "cell_type": "markdown",
   "metadata": {},
   "source": [
    "---"
   ]
  },
  {
   "cell_type": "markdown",
   "metadata": {},
   "source": [
    "# RESULTS"
   ]
  },
  {
   "cell_type": "markdown",
   "metadata": {},
   "source": [
    "### Scenario 1: Current admissions level"
   ]
  },
  {
   "cell_type": "code",
   "execution_count": 35,
   "metadata": {},
   "outputs": [
    {
     "name": "stdout",
     "output_type": "stream",
     "text": [
      "Running experiment with 9beds and 150 replications, end=17\n",
      "Running experiment with 10beds and 150 replications, end=17\n",
      "Running experiment with 11beds and 150 replications, end=17\n",
      "Running experiment with 12beds and 150 replications, end=17\n",
      "Running experiment with 13beds and 150 replications, end=17\n",
      "Running experiment with 14beds and 150 replications, end=17\n",
      "Running experiment with 15beds and 150 replications, end=17\n",
      "Running experiment with 16beds and 150 replications, end=17\n",
      "Running experiment with 17beds and 150 replications, end=17\n",
      "Finished running all experiments.\n"
     ]
    }
   ],
   "source": [
    "# Scenario 1: Current Admissions\n",
    "auditor = Auditor()\n",
    "experiment_default = Experiment(auditor=auditor)\n",
    "results_default = multiple_runs(\n",
    "    scenario=experiment_default,\n",
    "    beds_start=9,\n",
    "    beds_end=17,\n",
    "    warmup=WARM_UP_PERIOD,\n",
    "    n_reps=150,\n",
    ")\n",
    "results_default[\"Scenario\"] = \"Current Admissions\""
   ]
  },
  {
   "cell_type": "code",
   "execution_count": 36,
   "metadata": {},
   "outputs": [],
   "source": [
    "results_default[\"Overall Delay Probability\"] = results_default[\n",
    "    \"Overall Delay Probability\"\n",
    "].round(2)\n",
    "results_default[\"Overall Bed Utilization\"] = results_default[\n",
    "    \"Overall Bed Utilization\"\n",
    "].round(2)\n",
    "results_default[\"1 in every n Patients\"] = results_default[\n",
    "    \"1 in every n Patients\"\n",
    "].round(0)"
   ]
  },
  {
   "cell_type": "code",
   "execution_count": 37,
   "metadata": {},
   "outputs": [
    {
     "data": {
      "application/vnd.microsoft.datawrangler.viewer.v0+json": {
       "columns": [
        {
         "name": "index",
         "rawType": "int64",
         "type": "integer"
        },
        {
         "name": "Bed Capacity",
         "rawType": "int64",
         "type": "integer"
        },
        {
         "name": "Avg. Patients",
         "rawType": "float64",
         "type": "float"
        },
        {
         "name": "Overall Bed Utilization",
         "rawType": "float64",
         "type": "float"
        },
        {
         "name": "Overall Delay Probability",
         "rawType": "float64",
         "type": "float"
        },
        {
         "name": "1 in every n Patients",
         "rawType": "float64",
         "type": "float"
        },
        {
         "name": "Scenario",
         "rawType": "object",
         "type": "string"
        }
       ],
       "conversionMethod": "pd.DataFrame",
       "ref": "6adb1fb1-06e3-4bc0-90ee-bbbb14478222",
       "rows": [
        [
         "0",
         "9",
         "2785.6266666666666",
         "0.96",
         "0.86",
         "1.0",
         "Current Admissions"
        ],
        [
         "1",
         "10",
         "2788.22",
         "0.86",
         "0.57",
         "2.0",
         "Current Admissions"
        ],
        [
         "2",
         "11",
         "2788.58",
         "0.79",
         "0.36",
         "3.0",
         "Current Admissions"
        ],
        [
         "3",
         "12",
         "2788.9533333333334",
         "0.72",
         "0.22",
         "5.0",
         "Current Admissions"
        ],
        [
         "4",
         "13",
         "2789.0133333333333",
         "0.66",
         "0.13",
         "8.0",
         "Current Admissions"
        ],
        [
         "5",
         "14",
         "2789.0266666666666",
         "0.62",
         "0.07",
         "14.0",
         "Current Admissions"
        ],
        [
         "6",
         "15",
         "2788.9866666666667",
         "0.58",
         "0.04",
         "27.0",
         "Current Admissions"
        ],
        [
         "7",
         "16",
         "2788.9533333333334",
         "0.54",
         "0.02",
         "55.0",
         "Current Admissions"
        ],
        [
         "8",
         "17",
         "2788.94",
         "0.51",
         "0.01",
         "114.0",
         "Current Admissions"
        ]
       ],
       "shape": {
        "columns": 6,
        "rows": 9
       }
      },
      "text/html": [
       "<div>\n",
       "<style scoped>\n",
       "    .dataframe tbody tr th:only-of-type {\n",
       "        vertical-align: middle;\n",
       "    }\n",
       "\n",
       "    .dataframe tbody tr th {\n",
       "        vertical-align: top;\n",
       "    }\n",
       "\n",
       "    .dataframe thead th {\n",
       "        text-align: right;\n",
       "    }\n",
       "</style>\n",
       "<table border=\"1\" class=\"dataframe\">\n",
       "  <thead>\n",
       "    <tr style=\"text-align: right;\">\n",
       "      <th></th>\n",
       "      <th>Bed Capacity</th>\n",
       "      <th>Avg. Patients</th>\n",
       "      <th>Overall Bed Utilization</th>\n",
       "      <th>Overall Delay Probability</th>\n",
       "      <th>1 in every n Patients</th>\n",
       "      <th>Scenario</th>\n",
       "    </tr>\n",
       "  </thead>\n",
       "  <tbody>\n",
       "    <tr>\n",
       "      <th>0</th>\n",
       "      <td>9</td>\n",
       "      <td>2785.626667</td>\n",
       "      <td>0.96</td>\n",
       "      <td>0.86</td>\n",
       "      <td>1.0</td>\n",
       "      <td>Current Admissions</td>\n",
       "    </tr>\n",
       "    <tr>\n",
       "      <th>1</th>\n",
       "      <td>10</td>\n",
       "      <td>2788.220000</td>\n",
       "      <td>0.86</td>\n",
       "      <td>0.57</td>\n",
       "      <td>2.0</td>\n",
       "      <td>Current Admissions</td>\n",
       "    </tr>\n",
       "    <tr>\n",
       "      <th>2</th>\n",
       "      <td>11</td>\n",
       "      <td>2788.580000</td>\n",
       "      <td>0.79</td>\n",
       "      <td>0.36</td>\n",
       "      <td>3.0</td>\n",
       "      <td>Current Admissions</td>\n",
       "    </tr>\n",
       "    <tr>\n",
       "      <th>3</th>\n",
       "      <td>12</td>\n",
       "      <td>2788.953333</td>\n",
       "      <td>0.72</td>\n",
       "      <td>0.22</td>\n",
       "      <td>5.0</td>\n",
       "      <td>Current Admissions</td>\n",
       "    </tr>\n",
       "    <tr>\n",
       "      <th>4</th>\n",
       "      <td>13</td>\n",
       "      <td>2789.013333</td>\n",
       "      <td>0.66</td>\n",
       "      <td>0.13</td>\n",
       "      <td>8.0</td>\n",
       "      <td>Current Admissions</td>\n",
       "    </tr>\n",
       "    <tr>\n",
       "      <th>5</th>\n",
       "      <td>14</td>\n",
       "      <td>2789.026667</td>\n",
       "      <td>0.62</td>\n",
       "      <td>0.07</td>\n",
       "      <td>14.0</td>\n",
       "      <td>Current Admissions</td>\n",
       "    </tr>\n",
       "    <tr>\n",
       "      <th>6</th>\n",
       "      <td>15</td>\n",
       "      <td>2788.986667</td>\n",
       "      <td>0.58</td>\n",
       "      <td>0.04</td>\n",
       "      <td>27.0</td>\n",
       "      <td>Current Admissions</td>\n",
       "    </tr>\n",
       "    <tr>\n",
       "      <th>7</th>\n",
       "      <td>16</td>\n",
       "      <td>2788.953333</td>\n",
       "      <td>0.54</td>\n",
       "      <td>0.02</td>\n",
       "      <td>55.0</td>\n",
       "      <td>Current Admissions</td>\n",
       "    </tr>\n",
       "    <tr>\n",
       "      <th>8</th>\n",
       "      <td>17</td>\n",
       "      <td>2788.940000</td>\n",
       "      <td>0.51</td>\n",
       "      <td>0.01</td>\n",
       "      <td>114.0</td>\n",
       "      <td>Current Admissions</td>\n",
       "    </tr>\n",
       "  </tbody>\n",
       "</table>\n",
       "</div>"
      ],
      "text/plain": [
       "   Bed Capacity  Avg. Patients  Overall Bed Utilization  \\\n",
       "0             9    2785.626667                     0.96   \n",
       "1            10    2788.220000                     0.86   \n",
       "2            11    2788.580000                     0.79   \n",
       "3            12    2788.953333                     0.72   \n",
       "4            13    2789.013333                     0.66   \n",
       "5            14    2789.026667                     0.62   \n",
       "6            15    2788.986667                     0.58   \n",
       "7            16    2788.953333                     0.54   \n",
       "8            17    2788.940000                     0.51   \n",
       "\n",
       "   Overall Delay Probability  1 in every n Patients            Scenario  \n",
       "0                       0.86                    1.0  Current Admissions  \n",
       "1                       0.57                    2.0  Current Admissions  \n",
       "2                       0.36                    3.0  Current Admissions  \n",
       "3                       0.22                    5.0  Current Admissions  \n",
       "4                       0.13                    8.0  Current Admissions  \n",
       "5                       0.07                   14.0  Current Admissions  \n",
       "6                       0.04                   27.0  Current Admissions  \n",
       "7                       0.02                   55.0  Current Admissions  \n",
       "8                       0.01                  114.0  Current Admissions  "
      ]
     },
     "execution_count": 37,
     "metadata": {},
     "output_type": "execute_result"
    }
   ],
   "source": [
    "results_default"
   ]
  },
  {
   "cell_type": "code",
   "execution_count": 38,
   "metadata": {},
   "outputs": [],
   "source": [
    "results_default.to_csv(\"result/default_scenario.csv\")"
   ]
  },
  {
   "cell_type": "markdown",
   "metadata": {},
   "source": [
    "### Scenario 2: 5 % more admissions - A 5 % increase in admissions across all patient subgroups."
   ]
  },
  {
   "cell_type": "code",
   "execution_count": 39,
   "metadata": {},
   "outputs": [
    {
     "name": "stdout",
     "output_type": "stream",
     "text": [
      "Running experiment with 9beds and 150 replications, end=17\n",
      "Running experiment with 10beds and 150 replications, end=17\n",
      "Running experiment with 11beds and 150 replications, end=17\n",
      "Running experiment with 12beds and 150 replications, end=17\n",
      "Running experiment with 13beds and 150 replications, end=17\n",
      "Running experiment with 14beds and 150 replications, end=17\n",
      "Running experiment with 15beds and 150 replications, end=17\n",
      "Running experiment with 16beds and 150 replications, end=17\n",
      "Running experiment with 17beds and 150 replications, end=17\n",
      "Finished running all experiments.\n"
     ]
    }
   ],
   "source": [
    "# Scenario 2: 5% Increase in Admissions\n",
    "auditor = Auditor()\n",
    "experiment_increase = Experiment(\n",
    "    auditor=auditor,\n",
    "    iat_stroke=IAT_STROKE * 1.05,\n",
    "    iat_tia=IAT_TIA * 1.05,\n",
    "    iat_complex_neuro=IAT_COMPLEX_NEURO * 1.05,\n",
    "    iat_other=IAT_OTHER * 1.05,\n",
    ")\n",
    "results_increase = multiple_runs(\n",
    "    scenario=experiment_increase,\n",
    "    n_reps=150,\n",
    "    beds_start=9,\n",
    "    beds_end=17,\n",
    "    warmup=WARM_UP_PERIOD,\n",
    ")\n",
    "\n",
    "results_increase[\"Scenario\"] = \"5% Increase in Admissions\""
   ]
  },
  {
   "cell_type": "code",
   "execution_count": 40,
   "metadata": {},
   "outputs": [],
   "source": [
    "results_increase[\"Overall Delay Probability\"] = results_increase[\n",
    "    \"Overall Delay Probability\"\n",
    "].round(2)\n",
    "results_increase[\"Overall Bed Utilization\"] = results_increase[\n",
    "    \"Overall Bed Utilization\"\n",
    "].round(2)\n",
    "results_increase[\"1 in every n Patients\"] = results_increase[\n",
    "    \"1 in every n Patients\"\n",
    "].round(0)"
   ]
  },
  {
   "cell_type": "code",
   "execution_count": 41,
   "metadata": {},
   "outputs": [
    {
     "data": {
      "application/vnd.microsoft.datawrangler.viewer.v0+json": {
       "columns": [
        {
         "name": "index",
         "rawType": "int64",
         "type": "integer"
        },
        {
         "name": "Bed Capacity",
         "rawType": "int64",
         "type": "integer"
        },
        {
         "name": "Avg. Patients",
         "rawType": "float64",
         "type": "float"
        },
        {
         "name": "Overall Bed Utilization",
         "rawType": "float64",
         "type": "float"
        },
        {
         "name": "Overall Delay Probability",
         "rawType": "float64",
         "type": "float"
        },
        {
         "name": "1 in every n Patients",
         "rawType": "float64",
         "type": "float"
        },
        {
         "name": "Scenario",
         "rawType": "object",
         "type": "string"
        }
       ],
       "conversionMethod": "pd.DataFrame",
       "ref": "73ea76d3-9c6f-4774-b289-a0cb4859d19c",
       "rows": [
        [
         "0",
         "9",
         "2654.5466666666666",
         "0.91",
         "0.73",
         "1.0",
         "5% Increase in Admissions"
        ],
        [
         "1",
         "10",
         "2653.92",
         "0.82",
         "0.47",
         "2.0",
         "5% Increase in Admissions"
        ],
        [
         "2",
         "11",
         "2654.153333333333",
         "0.75",
         "0.28",
         "4.0",
         "5% Increase in Admissions"
        ],
        [
         "3",
         "12",
         "2654.346666666667",
         "0.69",
         "0.17",
         "6.0",
         "5% Increase in Admissions"
        ],
        [
         "4",
         "13",
         "2654.3866666666668",
         "0.63",
         "0.09",
         "11.0",
         "5% Increase in Admissions"
        ],
        [
         "5",
         "14",
         "2654.44",
         "0.59",
         "0.05",
         "20.0",
         "5% Increase in Admissions"
        ],
        [
         "6",
         "15",
         "2654.4733333333334",
         "0.55",
         "0.02",
         "40.0",
         "5% Increase in Admissions"
        ],
        [
         "7",
         "16",
         "2654.4866666666667",
         "0.51",
         "0.01",
         "85.0",
         "5% Increase in Admissions"
        ],
        [
         "8",
         "17",
         "2654.4866666666667",
         "0.48",
         "0.01",
         "181.0",
         "5% Increase in Admissions"
        ]
       ],
       "shape": {
        "columns": 6,
        "rows": 9
       }
      },
      "text/html": [
       "<div>\n",
       "<style scoped>\n",
       "    .dataframe tbody tr th:only-of-type {\n",
       "        vertical-align: middle;\n",
       "    }\n",
       "\n",
       "    .dataframe tbody tr th {\n",
       "        vertical-align: top;\n",
       "    }\n",
       "\n",
       "    .dataframe thead th {\n",
       "        text-align: right;\n",
       "    }\n",
       "</style>\n",
       "<table border=\"1\" class=\"dataframe\">\n",
       "  <thead>\n",
       "    <tr style=\"text-align: right;\">\n",
       "      <th></th>\n",
       "      <th>Bed Capacity</th>\n",
       "      <th>Avg. Patients</th>\n",
       "      <th>Overall Bed Utilization</th>\n",
       "      <th>Overall Delay Probability</th>\n",
       "      <th>1 in every n Patients</th>\n",
       "      <th>Scenario</th>\n",
       "    </tr>\n",
       "  </thead>\n",
       "  <tbody>\n",
       "    <tr>\n",
       "      <th>0</th>\n",
       "      <td>9</td>\n",
       "      <td>2654.546667</td>\n",
       "      <td>0.91</td>\n",
       "      <td>0.73</td>\n",
       "      <td>1.0</td>\n",
       "      <td>5% Increase in Admissions</td>\n",
       "    </tr>\n",
       "    <tr>\n",
       "      <th>1</th>\n",
       "      <td>10</td>\n",
       "      <td>2653.920000</td>\n",
       "      <td>0.82</td>\n",
       "      <td>0.47</td>\n",
       "      <td>2.0</td>\n",
       "      <td>5% Increase in Admissions</td>\n",
       "    </tr>\n",
       "    <tr>\n",
       "      <th>2</th>\n",
       "      <td>11</td>\n",
       "      <td>2654.153333</td>\n",
       "      <td>0.75</td>\n",
       "      <td>0.28</td>\n",
       "      <td>4.0</td>\n",
       "      <td>5% Increase in Admissions</td>\n",
       "    </tr>\n",
       "    <tr>\n",
       "      <th>3</th>\n",
       "      <td>12</td>\n",
       "      <td>2654.346667</td>\n",
       "      <td>0.69</td>\n",
       "      <td>0.17</td>\n",
       "      <td>6.0</td>\n",
       "      <td>5% Increase in Admissions</td>\n",
       "    </tr>\n",
       "    <tr>\n",
       "      <th>4</th>\n",
       "      <td>13</td>\n",
       "      <td>2654.386667</td>\n",
       "      <td>0.63</td>\n",
       "      <td>0.09</td>\n",
       "      <td>11.0</td>\n",
       "      <td>5% Increase in Admissions</td>\n",
       "    </tr>\n",
       "    <tr>\n",
       "      <th>5</th>\n",
       "      <td>14</td>\n",
       "      <td>2654.440000</td>\n",
       "      <td>0.59</td>\n",
       "      <td>0.05</td>\n",
       "      <td>20.0</td>\n",
       "      <td>5% Increase in Admissions</td>\n",
       "    </tr>\n",
       "    <tr>\n",
       "      <th>6</th>\n",
       "      <td>15</td>\n",
       "      <td>2654.473333</td>\n",
       "      <td>0.55</td>\n",
       "      <td>0.02</td>\n",
       "      <td>40.0</td>\n",
       "      <td>5% Increase in Admissions</td>\n",
       "    </tr>\n",
       "    <tr>\n",
       "      <th>7</th>\n",
       "      <td>16</td>\n",
       "      <td>2654.486667</td>\n",
       "      <td>0.51</td>\n",
       "      <td>0.01</td>\n",
       "      <td>85.0</td>\n",
       "      <td>5% Increase in Admissions</td>\n",
       "    </tr>\n",
       "    <tr>\n",
       "      <th>8</th>\n",
       "      <td>17</td>\n",
       "      <td>2654.486667</td>\n",
       "      <td>0.48</td>\n",
       "      <td>0.01</td>\n",
       "      <td>181.0</td>\n",
       "      <td>5% Increase in Admissions</td>\n",
       "    </tr>\n",
       "  </tbody>\n",
       "</table>\n",
       "</div>"
      ],
      "text/plain": [
       "   Bed Capacity  Avg. Patients  Overall Bed Utilization  \\\n",
       "0             9    2654.546667                     0.91   \n",
       "1            10    2653.920000                     0.82   \n",
       "2            11    2654.153333                     0.75   \n",
       "3            12    2654.346667                     0.69   \n",
       "4            13    2654.386667                     0.63   \n",
       "5            14    2654.440000                     0.59   \n",
       "6            15    2654.473333                     0.55   \n",
       "7            16    2654.486667                     0.51   \n",
       "8            17    2654.486667                     0.48   \n",
       "\n",
       "   Overall Delay Probability  1 in every n Patients                   Scenario  \n",
       "0                       0.73                    1.0  5% Increase in Admissions  \n",
       "1                       0.47                    2.0  5% Increase in Admissions  \n",
       "2                       0.28                    4.0  5% Increase in Admissions  \n",
       "3                       0.17                    6.0  5% Increase in Admissions  \n",
       "4                       0.09                   11.0  5% Increase in Admissions  \n",
       "5                       0.05                   20.0  5% Increase in Admissions  \n",
       "6                       0.02                   40.0  5% Increase in Admissions  \n",
       "7                       0.01                   85.0  5% Increase in Admissions  \n",
       "8                       0.01                  181.0  5% Increase in Admissions  "
      ]
     },
     "execution_count": 41,
     "metadata": {},
     "output_type": "execute_result"
    }
   ],
   "source": [
    "results_increase"
   ]
  },
  {
   "cell_type": "code",
   "execution_count": 42,
   "metadata": {},
   "outputs": [],
   "source": [
    "results_increase.to_csv(\"result/increase_scenario.csv\")"
   ]
  },
  {
   "cell_type": "markdown",
   "metadata": {},
   "source": [
    "### Scenario 3: No complex-neurological cases - Complex neurological patients are excluded from the pathway in order to assess their impact on bed requirements"
   ]
  },
  {
   "cell_type": "code",
   "execution_count": 43,
   "metadata": {},
   "outputs": [
    {
     "name": "stdout",
     "output_type": "stream",
     "text": [
      "Running experiment with 9beds and 150 replications, end=17\n",
      "Running experiment with 10beds and 150 replications, end=17\n",
      "Running experiment with 11beds and 150 replications, end=17\n",
      "Running experiment with 12beds and 150 replications, end=17\n",
      "Running experiment with 13beds and 150 replications, end=17\n",
      "Running experiment with 14beds and 150 replications, end=17\n",
      "Running experiment with 15beds and 150 replications, end=17\n",
      "Running experiment with 16beds and 150 replications, end=17\n",
      "Running experiment with 17beds and 150 replications, end=17\n",
      "Finished running all experiments.\n"
     ]
    }
   ],
   "source": [
    "# Scenario 4: Exclusion of Complex-Neurological Cases\n",
    "auditor = Auditor()\n",
    "experiment_exclusion = Experiment(\n",
    "    auditor=auditor,\n",
    "    iat_complex_neuro=float(\"inf\"),  # Effectively excludes these patients\n",
    ")\n",
    "results_exclusion = multiple_runs(\n",
    "    scenario=experiment_exclusion,\n",
    "    n_reps=150,\n",
    "    beds_start=9,\n",
    "    beds_end=17,\n",
    "    warmup=WARM_UP_PERIOD,\n",
    ")\n",
    "\n",
    "results_exclusion[\"Scenario\"] = \"No Complex-Neurological Cases\""
   ]
  },
  {
   "cell_type": "code",
   "execution_count": 44,
   "metadata": {},
   "outputs": [
    {
     "data": {
      "application/vnd.microsoft.datawrangler.viewer.v0+json": {
       "columns": [
        {
         "name": "index",
         "rawType": "int64",
         "type": "integer"
        },
        {
         "name": "Bed Capacity",
         "rawType": "int64",
         "type": "integer"
        },
        {
         "name": "Avg. Patients",
         "rawType": "float64",
         "type": "float"
        },
        {
         "name": "Overall Bed Utilization",
         "rawType": "float64",
         "type": "float"
        },
        {
         "name": "Overall Delay Probability",
         "rawType": "float64",
         "type": "float"
        },
        {
         "name": "1 in every n Patients",
         "rawType": "float64",
         "type": "float"
        },
        {
         "name": "Scenario",
         "rawType": "object",
         "type": "string"
        }
       ],
       "conversionMethod": "pd.DataFrame",
       "ref": "edd7b58b-cd39-49ca-8fe4-753e1b47abd1",
       "rows": [
        [
         "0",
         "9",
         "2285.3333333333335",
         "0.8377899543378996",
         "0.5254140224857063",
         "1.903260966026472",
         "No Complex-Neurological Cases"
        ],
        [
         "1",
         "10",
         "2285.806666666667",
         "0.7541789954337899",
         "0.31900807987539015",
         "3.1347168397446756",
         "No Complex-Neurological Cases"
        ],
        [
         "2",
         "11",
         "2286.18",
         "0.6857165628891657",
         "0.18597890140330567",
         "5.376954011742676",
         "No Complex-Neurological Cases"
        ],
        [
         "3",
         "12",
         "2286.26",
         "0.62861400304414",
         "0.10346855126534583",
         "9.664772414136667",
         "No Complex-Neurological Cases"
        ],
        [
         "4",
         "13",
         "2286.3",
         "0.5802655426765015",
         "0.05375860429383373",
         "18.601673409045386",
         "No Complex-Neurological Cases"
        ],
        [
         "5",
         "14",
         "2286.2733333333335",
         "0.5388414872798435",
         "0.02610092858049849",
         "38.312813159726346",
         "No Complex-Neurological Cases"
        ],
        [
         "6",
         "15",
         "2286.26",
         "0.5029313850837138",
         "0.012042694105429408",
         "83.03789760375574",
         "No Complex-Neurological Cases"
        ],
        [
         "7",
         "16",
         "2286.2466666666664",
         "0.4714890410958903",
         "0.005271261673112771",
         "189.7079033470715",
         "No Complex-Neurological Cases"
        ],
        [
         "8",
         "17",
         "2286.2466666666664",
         "0.44375976363148",
         "0.002211241601615867",
         "452.23461754213065",
         "No Complex-Neurological Cases"
        ]
       ],
       "shape": {
        "columns": 6,
        "rows": 9
       }
      },
      "text/html": [
       "<div>\n",
       "<style scoped>\n",
       "    .dataframe tbody tr th:only-of-type {\n",
       "        vertical-align: middle;\n",
       "    }\n",
       "\n",
       "    .dataframe tbody tr th {\n",
       "        vertical-align: top;\n",
       "    }\n",
       "\n",
       "    .dataframe thead th {\n",
       "        text-align: right;\n",
       "    }\n",
       "</style>\n",
       "<table border=\"1\" class=\"dataframe\">\n",
       "  <thead>\n",
       "    <tr style=\"text-align: right;\">\n",
       "      <th></th>\n",
       "      <th>Bed Capacity</th>\n",
       "      <th>Avg. Patients</th>\n",
       "      <th>Overall Bed Utilization</th>\n",
       "      <th>Overall Delay Probability</th>\n",
       "      <th>1 in every n Patients</th>\n",
       "      <th>Scenario</th>\n",
       "    </tr>\n",
       "  </thead>\n",
       "  <tbody>\n",
       "    <tr>\n",
       "      <th>0</th>\n",
       "      <td>9</td>\n",
       "      <td>2285.333333</td>\n",
       "      <td>0.837790</td>\n",
       "      <td>0.525414</td>\n",
       "      <td>1.903261</td>\n",
       "      <td>No Complex-Neurological Cases</td>\n",
       "    </tr>\n",
       "    <tr>\n",
       "      <th>1</th>\n",
       "      <td>10</td>\n",
       "      <td>2285.806667</td>\n",
       "      <td>0.754179</td>\n",
       "      <td>0.319008</td>\n",
       "      <td>3.134717</td>\n",
       "      <td>No Complex-Neurological Cases</td>\n",
       "    </tr>\n",
       "    <tr>\n",
       "      <th>2</th>\n",
       "      <td>11</td>\n",
       "      <td>2286.180000</td>\n",
       "      <td>0.685717</td>\n",
       "      <td>0.185979</td>\n",
       "      <td>5.376954</td>\n",
       "      <td>No Complex-Neurological Cases</td>\n",
       "    </tr>\n",
       "    <tr>\n",
       "      <th>3</th>\n",
       "      <td>12</td>\n",
       "      <td>2286.260000</td>\n",
       "      <td>0.628614</td>\n",
       "      <td>0.103469</td>\n",
       "      <td>9.664772</td>\n",
       "      <td>No Complex-Neurological Cases</td>\n",
       "    </tr>\n",
       "    <tr>\n",
       "      <th>4</th>\n",
       "      <td>13</td>\n",
       "      <td>2286.300000</td>\n",
       "      <td>0.580266</td>\n",
       "      <td>0.053759</td>\n",
       "      <td>18.601673</td>\n",
       "      <td>No Complex-Neurological Cases</td>\n",
       "    </tr>\n",
       "    <tr>\n",
       "      <th>5</th>\n",
       "      <td>14</td>\n",
       "      <td>2286.273333</td>\n",
       "      <td>0.538841</td>\n",
       "      <td>0.026101</td>\n",
       "      <td>38.312813</td>\n",
       "      <td>No Complex-Neurological Cases</td>\n",
       "    </tr>\n",
       "    <tr>\n",
       "      <th>6</th>\n",
       "      <td>15</td>\n",
       "      <td>2286.260000</td>\n",
       "      <td>0.502931</td>\n",
       "      <td>0.012043</td>\n",
       "      <td>83.037898</td>\n",
       "      <td>No Complex-Neurological Cases</td>\n",
       "    </tr>\n",
       "    <tr>\n",
       "      <th>7</th>\n",
       "      <td>16</td>\n",
       "      <td>2286.246667</td>\n",
       "      <td>0.471489</td>\n",
       "      <td>0.005271</td>\n",
       "      <td>189.707903</td>\n",
       "      <td>No Complex-Neurological Cases</td>\n",
       "    </tr>\n",
       "    <tr>\n",
       "      <th>8</th>\n",
       "      <td>17</td>\n",
       "      <td>2286.246667</td>\n",
       "      <td>0.443760</td>\n",
       "      <td>0.002211</td>\n",
       "      <td>452.234618</td>\n",
       "      <td>No Complex-Neurological Cases</td>\n",
       "    </tr>\n",
       "  </tbody>\n",
       "</table>\n",
       "</div>"
      ],
      "text/plain": [
       "   Bed Capacity  Avg. Patients  Overall Bed Utilization  \\\n",
       "0             9    2285.333333                 0.837790   \n",
       "1            10    2285.806667                 0.754179   \n",
       "2            11    2286.180000                 0.685717   \n",
       "3            12    2286.260000                 0.628614   \n",
       "4            13    2286.300000                 0.580266   \n",
       "5            14    2286.273333                 0.538841   \n",
       "6            15    2286.260000                 0.502931   \n",
       "7            16    2286.246667                 0.471489   \n",
       "8            17    2286.246667                 0.443760   \n",
       "\n",
       "   Overall Delay Probability  1 in every n Patients  \\\n",
       "0                   0.525414               1.903261   \n",
       "1                   0.319008               3.134717   \n",
       "2                   0.185979               5.376954   \n",
       "3                   0.103469               9.664772   \n",
       "4                   0.053759              18.601673   \n",
       "5                   0.026101              38.312813   \n",
       "6                   0.012043              83.037898   \n",
       "7                   0.005271             189.707903   \n",
       "8                   0.002211             452.234618   \n",
       "\n",
       "                        Scenario  \n",
       "0  No Complex-Neurological Cases  \n",
       "1  No Complex-Neurological Cases  \n",
       "2  No Complex-Neurological Cases  \n",
       "3  No Complex-Neurological Cases  \n",
       "4  No Complex-Neurological Cases  \n",
       "5  No Complex-Neurological Cases  \n",
       "6  No Complex-Neurological Cases  \n",
       "7  No Complex-Neurological Cases  \n",
       "8  No Complex-Neurological Cases  "
      ]
     },
     "execution_count": 44,
     "metadata": {},
     "output_type": "execute_result"
    }
   ],
   "source": [
    "results_exclusion"
   ]
  },
  {
   "cell_type": "code",
   "execution_count": 45,
   "metadata": {},
   "outputs": [],
   "source": [
    "results_exclusion[\"Overall Delay Probability\"] = results_exclusion[\n",
    "    \"Overall Delay Probability\"\n",
    "].round(2)\n",
    "results_exclusion[\"Overall Bed Utilization\"] = results_exclusion[\n",
    "    \"Overall Bed Utilization\"\n",
    "].round(2)\n",
    "results_exclusion[\"1 in every n Patients\"] = results_exclusion[\n",
    "    \"1 in every n Patients\"\n",
    "].round(0)"
   ]
  },
  {
   "cell_type": "code",
   "execution_count": 46,
   "metadata": {},
   "outputs": [
    {
     "data": {
      "application/vnd.microsoft.datawrangler.viewer.v0+json": {
       "columns": [
        {
         "name": "index",
         "rawType": "int64",
         "type": "integer"
        },
        {
         "name": "Bed Capacity",
         "rawType": "int64",
         "type": "integer"
        },
        {
         "name": "Avg. Patients",
         "rawType": "float64",
         "type": "float"
        },
        {
         "name": "Overall Bed Utilization",
         "rawType": "float64",
         "type": "float"
        },
        {
         "name": "Overall Delay Probability",
         "rawType": "float64",
         "type": "float"
        },
        {
         "name": "1 in every n Patients",
         "rawType": "float64",
         "type": "float"
        },
        {
         "name": "Scenario",
         "rawType": "object",
         "type": "string"
        }
       ],
       "conversionMethod": "pd.DataFrame",
       "ref": "9fb70ad1-d4e5-498e-9343-08173de39ea4",
       "rows": [
        [
         "0",
         "9",
         "2285.3333333333335",
         "0.84",
         "0.53",
         "2.0",
         "No Complex-Neurological Cases"
        ],
        [
         "1",
         "10",
         "2285.806666666667",
         "0.75",
         "0.32",
         "3.0",
         "No Complex-Neurological Cases"
        ],
        [
         "2",
         "11",
         "2286.18",
         "0.69",
         "0.19",
         "5.0",
         "No Complex-Neurological Cases"
        ],
        [
         "3",
         "12",
         "2286.26",
         "0.63",
         "0.1",
         "10.0",
         "No Complex-Neurological Cases"
        ],
        [
         "4",
         "13",
         "2286.3",
         "0.58",
         "0.05",
         "19.0",
         "No Complex-Neurological Cases"
        ],
        [
         "5",
         "14",
         "2286.2733333333335",
         "0.54",
         "0.03",
         "38.0",
         "No Complex-Neurological Cases"
        ],
        [
         "6",
         "15",
         "2286.26",
         "0.5",
         "0.01",
         "83.0",
         "No Complex-Neurological Cases"
        ],
        [
         "7",
         "16",
         "2286.2466666666664",
         "0.47",
         "0.01",
         "190.0",
         "No Complex-Neurological Cases"
        ],
        [
         "8",
         "17",
         "2286.2466666666664",
         "0.44",
         "0.0",
         "452.0",
         "No Complex-Neurological Cases"
        ]
       ],
       "shape": {
        "columns": 6,
        "rows": 9
       }
      },
      "text/html": [
       "<div>\n",
       "<style scoped>\n",
       "    .dataframe tbody tr th:only-of-type {\n",
       "        vertical-align: middle;\n",
       "    }\n",
       "\n",
       "    .dataframe tbody tr th {\n",
       "        vertical-align: top;\n",
       "    }\n",
       "\n",
       "    .dataframe thead th {\n",
       "        text-align: right;\n",
       "    }\n",
       "</style>\n",
       "<table border=\"1\" class=\"dataframe\">\n",
       "  <thead>\n",
       "    <tr style=\"text-align: right;\">\n",
       "      <th></th>\n",
       "      <th>Bed Capacity</th>\n",
       "      <th>Avg. Patients</th>\n",
       "      <th>Overall Bed Utilization</th>\n",
       "      <th>Overall Delay Probability</th>\n",
       "      <th>1 in every n Patients</th>\n",
       "      <th>Scenario</th>\n",
       "    </tr>\n",
       "  </thead>\n",
       "  <tbody>\n",
       "    <tr>\n",
       "      <th>0</th>\n",
       "      <td>9</td>\n",
       "      <td>2285.333333</td>\n",
       "      <td>0.84</td>\n",
       "      <td>0.53</td>\n",
       "      <td>2.0</td>\n",
       "      <td>No Complex-Neurological Cases</td>\n",
       "    </tr>\n",
       "    <tr>\n",
       "      <th>1</th>\n",
       "      <td>10</td>\n",
       "      <td>2285.806667</td>\n",
       "      <td>0.75</td>\n",
       "      <td>0.32</td>\n",
       "      <td>3.0</td>\n",
       "      <td>No Complex-Neurological Cases</td>\n",
       "    </tr>\n",
       "    <tr>\n",
       "      <th>2</th>\n",
       "      <td>11</td>\n",
       "      <td>2286.180000</td>\n",
       "      <td>0.69</td>\n",
       "      <td>0.19</td>\n",
       "      <td>5.0</td>\n",
       "      <td>No Complex-Neurological Cases</td>\n",
       "    </tr>\n",
       "    <tr>\n",
       "      <th>3</th>\n",
       "      <td>12</td>\n",
       "      <td>2286.260000</td>\n",
       "      <td>0.63</td>\n",
       "      <td>0.10</td>\n",
       "      <td>10.0</td>\n",
       "      <td>No Complex-Neurological Cases</td>\n",
       "    </tr>\n",
       "    <tr>\n",
       "      <th>4</th>\n",
       "      <td>13</td>\n",
       "      <td>2286.300000</td>\n",
       "      <td>0.58</td>\n",
       "      <td>0.05</td>\n",
       "      <td>19.0</td>\n",
       "      <td>No Complex-Neurological Cases</td>\n",
       "    </tr>\n",
       "    <tr>\n",
       "      <th>5</th>\n",
       "      <td>14</td>\n",
       "      <td>2286.273333</td>\n",
       "      <td>0.54</td>\n",
       "      <td>0.03</td>\n",
       "      <td>38.0</td>\n",
       "      <td>No Complex-Neurological Cases</td>\n",
       "    </tr>\n",
       "    <tr>\n",
       "      <th>6</th>\n",
       "      <td>15</td>\n",
       "      <td>2286.260000</td>\n",
       "      <td>0.50</td>\n",
       "      <td>0.01</td>\n",
       "      <td>83.0</td>\n",
       "      <td>No Complex-Neurological Cases</td>\n",
       "    </tr>\n",
       "    <tr>\n",
       "      <th>7</th>\n",
       "      <td>16</td>\n",
       "      <td>2286.246667</td>\n",
       "      <td>0.47</td>\n",
       "      <td>0.01</td>\n",
       "      <td>190.0</td>\n",
       "      <td>No Complex-Neurological Cases</td>\n",
       "    </tr>\n",
       "    <tr>\n",
       "      <th>8</th>\n",
       "      <td>17</td>\n",
       "      <td>2286.246667</td>\n",
       "      <td>0.44</td>\n",
       "      <td>0.00</td>\n",
       "      <td>452.0</td>\n",
       "      <td>No Complex-Neurological Cases</td>\n",
       "    </tr>\n",
       "  </tbody>\n",
       "</table>\n",
       "</div>"
      ],
      "text/plain": [
       "   Bed Capacity  Avg. Patients  Overall Bed Utilization  \\\n",
       "0             9    2285.333333                     0.84   \n",
       "1            10    2285.806667                     0.75   \n",
       "2            11    2286.180000                     0.69   \n",
       "3            12    2286.260000                     0.63   \n",
       "4            13    2286.300000                     0.58   \n",
       "5            14    2286.273333                     0.54   \n",
       "6            15    2286.260000                     0.50   \n",
       "7            16    2286.246667                     0.47   \n",
       "8            17    2286.246667                     0.44   \n",
       "\n",
       "   Overall Delay Probability  1 in every n Patients  \\\n",
       "0                       0.53                    2.0   \n",
       "1                       0.32                    3.0   \n",
       "2                       0.19                    5.0   \n",
       "3                       0.10                   10.0   \n",
       "4                       0.05                   19.0   \n",
       "5                       0.03                   38.0   \n",
       "6                       0.01                   83.0   \n",
       "7                       0.01                  190.0   \n",
       "8                       0.00                  452.0   \n",
       "\n",
       "                        Scenario  \n",
       "0  No Complex-Neurological Cases  \n",
       "1  No Complex-Neurological Cases  \n",
       "2  No Complex-Neurological Cases  \n",
       "3  No Complex-Neurological Cases  \n",
       "4  No Complex-Neurological Cases  \n",
       "5  No Complex-Neurological Cases  \n",
       "6  No Complex-Neurological Cases  \n",
       "7  No Complex-Neurological Cases  \n",
       "8  No Complex-Neurological Cases  "
      ]
     },
     "execution_count": 46,
     "metadata": {},
     "output_type": "execute_result"
    }
   ],
   "source": [
    "results_exclusion"
   ]
  },
  {
   "cell_type": "code",
   "execution_count": 47,
   "metadata": {},
   "outputs": [],
   "source": [
    "results_exclusion.to_csv(\"result/exclusion_sceranio.csv\")"
   ]
  },
  {
   "cell_type": "markdown",
   "metadata": {},
   "source": [
    "---"
   ]
  },
  {
   "cell_type": "markdown",
   "metadata": {},
   "source": [
    "### Combined Results for 3 'what-if' scenarios"
   ]
  },
  {
   "cell_type": "code",
   "execution_count": 48,
   "metadata": {},
   "outputs": [
    {
     "name": "stdout",
     "output_type": "stream",
     "text": [
      "                         Scenario  Bed Capacity  Overall Bed Utilization  \\\n",
      "0              Current Admissions             9                     0.96   \n",
      "1              Current Admissions            10                     0.86   \n",
      "2              Current Admissions            11                     0.79   \n",
      "3              Current Admissions            12                     0.72   \n",
      "4              Current Admissions            13                     0.66   \n",
      "5              Current Admissions            14                     0.62   \n",
      "6              Current Admissions            15                     0.58   \n",
      "7              Current Admissions            16                     0.54   \n",
      "8              Current Admissions            17                     0.51   \n",
      "9       5% Increase in Admissions             9                     0.91   \n",
      "10      5% Increase in Admissions            10                     0.82   \n",
      "11      5% Increase in Admissions            11                     0.75   \n",
      "12      5% Increase in Admissions            12                     0.69   \n",
      "13      5% Increase in Admissions            13                     0.63   \n",
      "14      5% Increase in Admissions            14                     0.59   \n",
      "15      5% Increase in Admissions            15                     0.55   \n",
      "16      5% Increase in Admissions            16                     0.51   \n",
      "17      5% Increase in Admissions            17                     0.48   \n",
      "18  No Complex-Neurological Cases             9                     0.84   \n",
      "19  No Complex-Neurological Cases            10                     0.75   \n",
      "20  No Complex-Neurological Cases            11                     0.69   \n",
      "21  No Complex-Neurological Cases            12                     0.63   \n",
      "22  No Complex-Neurological Cases            13                     0.58   \n",
      "23  No Complex-Neurological Cases            14                     0.54   \n",
      "24  No Complex-Neurological Cases            15                     0.50   \n",
      "25  No Complex-Neurological Cases            16                     0.47   \n",
      "26  No Complex-Neurological Cases            17                     0.44   \n",
      "\n",
      "    Overall Delay Probability  1 in every n Patients  \n",
      "0                        0.86                    1.0  \n",
      "1                        0.57                    2.0  \n",
      "2                        0.36                    3.0  \n",
      "3                        0.22                    5.0  \n",
      "4                        0.13                    8.0  \n",
      "5                        0.07                   14.0  \n",
      "6                        0.04                   27.0  \n",
      "7                        0.02                   55.0  \n",
      "8                        0.01                  114.0  \n",
      "9                        0.73                    1.0  \n",
      "10                       0.47                    2.0  \n",
      "11                       0.28                    4.0  \n",
      "12                       0.17                    6.0  \n",
      "13                       0.09                   11.0  \n",
      "14                       0.05                   20.0  \n",
      "15                       0.02                   40.0  \n",
      "16                       0.01                   85.0  \n",
      "17                       0.01                  181.0  \n",
      "18                       0.53                    2.0  \n",
      "19                       0.32                    3.0  \n",
      "20                       0.19                    5.0  \n",
      "21                       0.10                   10.0  \n",
      "22                       0.05                   19.0  \n",
      "23                       0.03                   38.0  \n",
      "24                       0.01                   83.0  \n",
      "25                       0.01                  190.0  \n",
      "26                       0.00                  452.0  \n"
     ]
    }
   ],
   "source": [
    "# Consolidate results\n",
    "combined_results = pd.concat(\n",
    "    [results_default, results_increase, results_exclusion], ignore_index=True\n",
    ")\n",
    "\n",
    "# Reorder columns for clarity\n",
    "combined_results = combined_results[\n",
    "    [\n",
    "        \"Scenario\",\n",
    "        \"Bed Capacity\",\n",
    "        \"Overall Bed Utilization\",\n",
    "        \"Overall Delay Probability\",\n",
    "        \"1 in every n Patients\",\n",
    "    ]\n",
    "]\n",
    "\n",
    "# Display the consolidated results\n",
    "print(combined_results)"
   ]
  },
  {
   "cell_type": "code",
   "execution_count": 49,
   "metadata": {},
   "outputs": [
    {
     "data": {
      "image/png": "[encoded data removed]",
      "text/plain": [
       "<Figure size 1200x600 with 1 Axes>"
      ]
     },
     "metadata": {},
     "output_type": "display_data"
    }
   ],
   "source": [
    "# Bed Capacity vs. Delay Probability\n",
    "# Plot all scenarios using seaborn from the combined_results DataFrame\n",
    "plt.figure(figsize=(12, 6))\n",
    "sns.lineplot(\n",
    "    data=combined_results,\n",
    "    x=\"Bed Capacity\",\n",
    "    y=\"Overall Delay Probability\",\n",
    "    hue=\"Scenario\",\n",
    "    style=\"Scenario\",\n",
    "    markers=True,\n",
    "    dashes=False,\n",
    ")\n",
    "plt.grid(True)\n",
    "plt.xlabel(\"Number of Beds\")\n",
    "plt.ylabel(\"Delay Probability\")\n",
    "plt.title(\"Comparison of Delay Probability Across Scenarios\")\n",
    "plt.legend(title=\"Scenario\")\n",
    "plt.grid(True)\n",
    "plt.savefig(\"result/comparison_delay_probability.png\")\n",
    "plt.tight_layout()\n",
    "plt.show()"
   ]
  }
 ],
 "metadata": {
  "kernelspec": {
   "display_name": "sim_env",
   "language": "python",
   "name": "python3"
  },
  "language_info": {
   "codemirror_mode": {
    "name": "ipython",
    "version": 3
   },
   "file_extension": ".py",
   "mimetype": "text/x-python",
   "name": "python",
   "nbconvert_exporter": "python",
   "pygments_lexer": "ipython3",
   "version": "3.11.9"
  }
 },
 "nbformat": 4,
 "nbformat_minor": 2
}
